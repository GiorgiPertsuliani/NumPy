{
 "cells": [
  {
   "cell_type": "code",
   "execution_count": 82,
   "id": "965064c1",
   "metadata": {},
   "outputs": [],
   "source": [
    "#in this module I'll try to explain and show mostly every method needed while working with NumPy. Good Luck!"
   ]
  },
  {
   "cell_type": "code",
   "execution_count": 83,
   "id": "760b81de",
   "metadata": {},
   "outputs": [],
   "source": [
    "import numpy as np"
   ]
  },
  {
   "cell_type": "markdown",
   "id": "33270f09",
   "metadata": {},
   "source": [
    "# numpy.ndarray"
   ]
  },
  {
   "cell_type": "code",
   "execution_count": 84,
   "id": "9707f859",
   "metadata": {},
   "outputs": [
    {
     "name": "stdout",
     "output_type": "stream",
     "text": [
      "True\n",
      "False\n",
      "True\n",
      "False\n"
     ]
    }
   ],
   "source": [
    "#method np.all() - The np.all() function takes an array as input, and returns True if all elements \n",
    "#of the array are non-zero (or equivalently, evaluate to True), and False otherwise.\n",
    "\n",
    "a = np.array([1,2,3])\n",
    "b = np.array([0,2,3])\n",
    "c = np.array([[1,2],[3,4]])\n",
    "d = np.array([[1,0],[3,4]])\n",
    "\n",
    "print(np.all(a))\n",
    "print(np.all(b))\n",
    "print(np.all(c))\n",
    "print(np.all(d))"
   ]
  },
  {
   "cell_type": "code",
   "execution_count": 85,
   "id": "98d82283",
   "metadata": {},
   "outputs": [
    {
     "name": "stdout",
     "output_type": "stream",
     "text": [
      "True\n",
      "False\n",
      "True\n",
      "True\n"
     ]
    }
   ],
   "source": [
    "#method np.any() - The np.any() function takes an array as input, and returns True if at least one \n",
    "#element of the array is non-zero (or equivalently, evaluates to True), and False otherwise.\n",
    "\n",
    "a = np.array([1,2,3])\n",
    "b = np.array([0,0,0])\n",
    "c = np.array([[0,0],[0,41]])\n",
    "d = np.array([[1,0],[1,0]])\n",
    "\n",
    "\n",
    "print(np.any(a))\n",
    "print(np.any(b))\n",
    "print(np.any(c))\n",
    "print(np.any(d))"
   ]
  },
  {
   "cell_type": "code",
   "execution_count": 86,
   "id": "f1f742c7",
   "metadata": {},
   "outputs": [
    {
     "name": "stdout",
     "output_type": "stream",
     "text": [
      "int32\n",
      "float64\n"
     ]
    }
   ],
   "source": [
    "#method np.astype() - is a method that is used to cast an array to a different data type. \n",
    "#It returns a new array with the same values as the original array, but with a different data type.\n",
    "\n",
    "a = np.array([1,2,3,4])\n",
    "b = a.astype(float)   #(int)(bool)(str)...\n",
    "\n",
    "print(a.dtype)  #it was a integer data type\n",
    "print(b.dtype)  #now it's a floating data type"
   ]
  },
  {
   "cell_type": "code",
   "execution_count": 87,
   "id": "4dc2090d",
   "metadata": {},
   "outputs": [
    {
     "name": "stdout",
     "output_type": "stream",
     "text": [
      "[1 5 9]\n"
     ]
    }
   ],
   "source": [
    "#method np.choose() - is a NumPy function that constructs a new array from an index array and a sequence of arrays.\n",
    "\n",
    "chose = np.array([0,1,2])\n",
    "\n",
    "a = np.array([1,2,3])\n",
    "b = np.array([4,5,6])\n",
    "c = np.array([7,8,9])\n",
    "\n",
    "z = np.choose(chose,[a,b,c])\n",
    "print(z)"
   ]
  },
  {
   "cell_type": "code",
   "execution_count": 88,
   "id": "46946975",
   "metadata": {},
   "outputs": [
    {
     "name": "stdout",
     "output_type": "stream",
     "text": [
      "[2 2 3 4 4 4]\n"
     ]
    }
   ],
   "source": [
    "#method np.clip - is a NumPy function that clips the values in an array to a specified range.\n",
    "\n",
    "a = np.array([1,2,3,5,6,7])\n",
    "b = np.clip(a,2,4)\n",
    "print(b)"
   ]
  },
  {
   "cell_type": "code",
   "execution_count": 89,
   "id": "53b56edb",
   "metadata": {},
   "outputs": [
    {
     "name": "stdout",
     "output_type": "stream",
     "text": [
      "[[1 2 3]\n",
      " [4 5 6]]\n",
      "[[1 2 3]\n",
      " [4 5 6]]\n"
     ]
    }
   ],
   "source": [
    "#method np.copy() - is a NumPy function that creates a copy of a given NumPy array.\n",
    "\n",
    "a = np.array([[1,2,3],[4,5,6]])\n",
    "b = np.copy(a)\n",
    "\n",
    "print(a)\n",
    "print(b)\n"
   ]
  },
  {
   "cell_type": "code",
   "execution_count": 90,
   "id": "432e13c5",
   "metadata": {},
   "outputs": [
    {
     "name": "stdout",
     "output_type": "stream",
     "text": [
      "[ 1  2  6 24]\n"
     ]
    }
   ],
   "source": [
    "#method np.cumprod() -  is a NumPy function that returns the cumulative product of elements along \n",
    "#a given axis of a NumPy array.\n",
    "\n",
    "a = np.array([1,2,3,4])\n",
    "b = np.cumprod(a)\n",
    "\n",
    "print(b)"
   ]
  },
  {
   "cell_type": "code",
   "execution_count": 91,
   "id": "9a4d34cb",
   "metadata": {},
   "outputs": [
    {
     "name": "stdout",
     "output_type": "stream",
     "text": [
      "[ 1  3  6 10]\n"
     ]
    }
   ],
   "source": [
    "#method np.cumsum() - is a NumPy function that returns the cumulative sum of elements along a \n",
    "#given axis of a NumPy array.\n",
    "\n",
    "a = np.array([1,2,3,4])\n",
    "b = np.cumsum(a)\n",
    "\n",
    "print(b)"
   ]
  },
  {
   "cell_type": "code",
   "execution_count": 92,
   "id": "6124c9db",
   "metadata": {},
   "outputs": [
    {
     "name": "stdout",
     "output_type": "stream",
     "text": [
      "[1 5 9]\n"
     ]
    }
   ],
   "source": [
    "#method np.diagonal() -  is a NumPy function that returns the diagonal elements of a 2D array or a \n",
    "#1D array representing the diagonal of a 2D array.\n",
    "\n",
    "a = np.array([[1,2,3],[4,5,6],[7,8,9]])\n",
    "b = np.diagonal(a)\n",
    "\n",
    "print(b)"
   ]
  },
  {
   "cell_type": "code",
   "execution_count": 93,
   "id": "71c21ce5",
   "metadata": {},
   "outputs": [
    {
     "name": "stdout",
     "output_type": "stream",
     "text": [
      "[[1 2 3 4]\n",
      " [1 2 3 4]\n",
      " [1 2 3 4]]\n"
     ]
    }
   ],
   "source": [
    "#method np.fill() - can be used to fill an array with a scalar value.\n",
    "\n",
    "a = np.full((3,4),[1,2,3,4])\n",
    "print(a)"
   ]
  },
  {
   "cell_type": "code",
   "execution_count": 94,
   "id": "03dca2a9",
   "metadata": {},
   "outputs": [
    {
     "name": "stdout",
     "output_type": "stream",
     "text": [
      "[ 1  2  3  4  5  6  7  8  9 10 11 12]\n"
     ]
    }
   ],
   "source": [
    "#method np.flatten - is a NumPy function that is used to return a 1-dimensional copy of an input array. \n",
    "#This function is used to convert a multidimensional array into a flat, one-dimensional array.\n",
    "\n",
    "a = np.array([[1,2,3,4],[5,6,7,8],[9,10,11,12]])\n",
    "b = a.flatten()\n",
    "\n",
    "print(b)"
   ]
  },
  {
   "cell_type": "code",
   "execution_count": 95,
   "id": "9db7e1fa",
   "metadata": {},
   "outputs": [
    {
     "name": "stdout",
     "output_type": "stream",
     "text": [
      "4\n"
     ]
    }
   ],
   "source": [
    "#method np.item - is a NumPy function that returns a scalar object from an array. This function is used \n",
    "#to extract a single item from an array.\n",
    "\n",
    "a = np.array([1,2,3,4,5,6])\n",
    "b = a.item(3)\n",
    "\n",
    "print(b)"
   ]
  },
  {
   "cell_type": "code",
   "execution_count": 96,
   "id": "73eece7c",
   "metadata": {},
   "outputs": [
    {
     "name": "stdout",
     "output_type": "stream",
     "text": [
      "9\n",
      "[7 8 9]\n",
      "[3 6 9]\n"
     ]
    }
   ],
   "source": [
    "#method np.max() - is a NumPy function that returns the maximum value of an array or along a specified axis.\n",
    "\n",
    "a = np.array([[1,2,3],\n",
    "              [4,5,6],\n",
    "              [7,8,9]])\n",
    "b = np.max(a)\n",
    "c = np.max(a, axis=0)\n",
    "d = np.max(a, axis=1)\n",
    "\n",
    "print(b)\n",
    "print(c)\n",
    "print(d)"
   ]
  },
  {
   "cell_type": "code",
   "execution_count": 97,
   "id": "77e61811",
   "metadata": {},
   "outputs": [
    {
     "name": "stdout",
     "output_type": "stream",
     "text": [
      "1\n",
      "[1 2 3]\n",
      "[1 4 7]\n"
     ]
    }
   ],
   "source": [
    "#method np.min() - is a NumPy function that returns the minimum value of an array or along a specified axis.\n",
    "\n",
    "a = np.array([[1,2,3],\n",
    "              [4,5,6],\n",
    "              [7,8,9]])\n",
    "b = np.min(a)\n",
    "c = np.min(a, axis=0)\n",
    "d = np.min(a, axis=1)\n",
    "\n",
    "print(b)\n",
    "print(c)\n",
    "print(d)"
   ]
  },
  {
   "cell_type": "code",
   "execution_count": 98,
   "id": "ad03b977",
   "metadata": {},
   "outputs": [
    {
     "name": "stdout",
     "output_type": "stream",
     "text": [
      "5.0\n",
      "[4. 5. 6.]\n",
      "[2. 5. 8.]\n"
     ]
    }
   ],
   "source": [
    "#method np.mean() - is a NumPy function that returns the arithmetic mean (average) of the elements in a NumPy array. \n",
    "#It can be used to calculate the mean along a specified axis or across the entire array.\n",
    "\n",
    "\n",
    "a = np.array([[1,2,3],\n",
    "              [4,5,6],\n",
    "              [7,8,9]])\n",
    "b = np.mean(a)\n",
    "c = np.mean(a, axis=0)\n",
    "d = np.mean(a, axis=1)\n",
    "\n",
    "print(b)\n",
    "print(c)\n",
    "print(d)"
   ]
  },
  {
   "cell_type": "code",
   "execution_count": 99,
   "id": "7270601e",
   "metadata": {},
   "outputs": [
    {
     "name": "stdout",
     "output_type": "stream",
     "text": [
      "(array([1, 5, 8], dtype=int64),)\n"
     ]
    }
   ],
   "source": [
    "#method np.nonzero() - is a NumPy function that returns the indices of the elements in a NumPy array that are non-zero\n",
    "\n",
    "a = np.array([0,1,0,0,0,4,0,0,8])\n",
    "b = np.nonzero(a)\n",
    "\n",
    "print(b)"
   ]
  },
  {
   "cell_type": "code",
   "execution_count": 100,
   "id": "b558de03",
   "metadata": {},
   "outputs": [
    {
     "name": "stdout",
     "output_type": "stream",
     "text": [
      "24\n"
     ]
    }
   ],
   "source": [
    "#method np.prod() - is a NumPy function that calculates the product of all the elements in a NumPy array.\n",
    "\n",
    "a = np.array([1,2,3,4])\n",
    "b = np.prod(a)\n",
    "\n",
    "print(b)"
   ]
  },
  {
   "cell_type": "code",
   "execution_count": 101,
   "id": "7e75c19a",
   "metadata": {},
   "outputs": [
    {
     "name": "stdout",
     "output_type": "stream",
     "text": [
      "[ 1 10  3 20  5]\n"
     ]
    }
   ],
   "source": [
    "#method np.put() -  is a NumPy function that replaces specified elements of an array with given values.\n",
    "\n",
    "a = np.array([1, 2, 3, 4, 5])\n",
    "np.put(a,[1,3],[10,20])\n",
    "\n",
    "print(a)"
   ]
  },
  {
   "cell_type": "code",
   "execution_count": 102,
   "id": "bd87777e",
   "metadata": {},
   "outputs": [
    {
     "name": "stdout",
     "output_type": "stream",
     "text": [
      "[1 4 9 5]\n"
     ]
    }
   ],
   "source": [
    "#method np.ravel(just a view of a original, not original like np.ravel) - is a NumPy function that returns a \n",
    "#flattened 1-dimensional array of a given input array. The resulting array contains all the elements of the \n",
    "#input array in a flattened, sequential order.\n",
    "\n",
    "a = np.array([[1,4],[9,5]])\n",
    "b = np.ravel(a)\n",
    "\n",
    "print(b)"
   ]
  },
  {
   "cell_type": "code",
   "execution_count": 103,
   "id": "64604863",
   "metadata": {},
   "outputs": [
    {
     "name": "stdout",
     "output_type": "stream",
     "text": [
      "[[ 1  2  3]\n",
      " [ 4  4  5]\n",
      " [ 6  7  7]\n",
      " [ 8  9 10]]\n",
      "[[ 0  1  2  3]\n",
      " [ 4  5  6  7]\n",
      " [ 8  9 10 11]]\n"
     ]
    }
   ],
   "source": [
    "#method np.reshape() - is a NumPy function used to change the shape of an array without changing the data within it. \n",
    "#It can be used to change a 1D array to a 2D array or vice versa, or to change the shape of a multidimensional array.\n",
    "\n",
    "a = np.array([[1,2,3,4],\n",
    "              [4,5,6,7],\n",
    "              [7,8,9,10]])\n",
    "c = np.arange(12)\n",
    "b = np.reshape(a, (4,3))\n",
    "d = np.reshape(c,(3,4))\n",
    "\n",
    "print(b)\n",
    "print(d)"
   ]
  },
  {
   "cell_type": "code",
   "execution_count": 104,
   "id": "91b13b32",
   "metadata": {},
   "outputs": [
    {
     "name": "stdout",
     "output_type": "stream",
     "text": [
      "[[ 0  1  2  3  4  5  6]\n",
      " [ 7  8  9 10 11 12 13]\n",
      " [14 15 16 17 18 19 20]]\n"
     ]
    }
   ],
   "source": [
    "#method np.resize() -  is a NumPy function used to change the size of an array by repeating or truncating its \n",
    "#elements as necessary. It returns a new array with the specified size, which may be larger or smaller than the \n",
    "#original array.\n",
    "\n",
    "a = np.arange(21)\n",
    "b = np.resize(a,(3,7))\n",
    "\n",
    "print(b)"
   ]
  },
  {
   "cell_type": "code",
   "execution_count": 105,
   "id": "64b4cc71",
   "metadata": {},
   "outputs": [
    {
     "name": "stdout",
     "output_type": "stream",
     "text": [
      "[[1.54 2.55 3.35 5.28]\n",
      " [6.7  8.5  9.   4.3 ]]\n"
     ]
    }
   ],
   "source": [
    "#method np.round() - is a NumPy function that returns the values of an array rounded to the nearest integer or \n",
    "#to a specified number of decimals. By default, it rounds to the nearest integer. For example, np.round([1.23, 3.58]) \n",
    "#would return [1., 4.]. You can also specify the number of decimals to round to by passing a second argument to the \n",
    "#function, for example np.round([1.234, 3.567], decimals=2) would return [1.23, 3.57].\n",
    "\n",
    "a = np.array([[1.54,2.554,3.35,5.28],[6.7,8.5,9.0,4.3]])\n",
    "b = np.round(a, 2)\n",
    "\n",
    "print(b)"
   ]
  },
  {
   "cell_type": "code",
   "execution_count": 106,
   "id": "60d1c58f",
   "metadata": {},
   "outputs": [
    {
     "name": "stdout",
     "output_type": "stream",
     "text": [
      "[  1   1   2   2   3   3   5   6   7   8   8   9   9 200]\n"
     ]
    }
   ],
   "source": [
    "#method np.sort - is a NumPy function that returns a sorted copy of an input array. By default, \n",
    "#it sorts the elements of the array along the last axis in ascending order.\n",
    "\n",
    "a = np.array([1,5,2,8,3,9,1,6,3,8,2,9,200,7])\n",
    "b = np.sort(a)\n",
    "\n",
    "print(b)"
   ]
  },
  {
   "cell_type": "code",
   "execution_count": 107,
   "id": "5bf8f1ca",
   "metadata": {},
   "outputs": [
    {
     "name": "stdout",
     "output_type": "stream",
     "text": [
      "2.5967394084804805\n",
      "[1.5 0.  1.  3.  1.5 0.5]\n"
     ]
    }
   ],
   "source": [
    "#method np.std() - is a NumPy function that calculates the standard deviation of an array. \n",
    "#The standard deviation is a measure of how spread out the values in the array are from the mean. \n",
    "#It is defined as the square root of the variance, which is the average of the squared differences from the mean.\n",
    "\n",
    "a = np.array([[1,5,8,2,6,0],\n",
    "              [4,5,6,8,3,1]])\n",
    "b = np.std(a)\n",
    "c = np.std(a,axis=0)\n",
    "\n",
    "print(b)\n",
    "print(c)"
   ]
  },
  {
   "cell_type": "code",
   "execution_count": 108,
   "id": "b4abe78e",
   "metadata": {},
   "outputs": [
    {
     "name": "stdout",
     "output_type": "stream",
     "text": [
      "26\n",
      "[14 12]\n"
     ]
    }
   ],
   "source": [
    "#method np.sum() - is a NumPy function that returns the sum of all elements in an array. By default, \n",
    "#it sums all elements of the input array. However, you can specify the axis along which to perform the \n",
    "#sum to get the sum along each row or column.\n",
    "\n",
    "a = np.array([[1,5,8],\n",
    "              [3,6,3]])\n",
    "b = np.sum(a)\n",
    "c = np.sum(a,axis=1)\n",
    "\n",
    "print(b)\n",
    "print(c)"
   ]
  },
  {
   "cell_type": "code",
   "execution_count": 109,
   "id": "42abc16f",
   "metadata": {},
   "outputs": [
    {
     "name": "stdout",
     "output_type": "stream",
     "text": [
      "[[1 5 2]\n",
      " [5 6 4]\n",
      " [3 3 7]\n",
      " [6 2 2]\n",
      " [7 1 5]]\n",
      "[14 12]\n"
     ]
    }
   ],
   "source": [
    "#method np.transpose() - is a NumPy function that rearranges the dimensions of an array. \n",
    "#It takes the input array and rearranges the axes according to the specified order. \n",
    "#The function returns a new array with the rearranged axes.\n",
    "\n",
    "a = np.array([[1,5,3,6,7],\n",
    "              [5,6,3,2,1],\n",
    "              [2,4,7,2,5]])\n",
    "\n",
    "b = np.transpose(a)\n",
    "\n",
    "print(b)\n",
    "print(c)"
   ]
  },
  {
   "cell_type": "code",
   "execution_count": 110,
   "id": "af344f7b",
   "metadata": {},
   "outputs": [
    {
     "name": "stdout",
     "output_type": "stream",
     "text": [
      "[[1. 1. 1. 1. 1. 1.]\n",
      " [1. 1. 1. 1. 1. 1.]\n",
      " [1. 1. 1. 1. 1. 1.]\n",
      " [1. 1. 1. 1. 1. 1.]\n",
      " [1. 1. 1. 1. 1. 1.]\n",
      " [1. 1. 1. 1. 1. 1.]\n",
      " [1. 1. 1. 1. 1. 1.]]\n"
     ]
    }
   ],
   "source": [
    "#method np.ones() - is a function from the NumPy library in Python, which returns a new array of a specified shape,\n",
    "#where all the elements of the array are set to one.\n",
    "\n",
    "a = np.ones((7,6))\n",
    "\n",
    "print(a)"
   ]
  },
  {
   "cell_type": "code",
   "execution_count": 111,
   "id": "1fee5363",
   "metadata": {},
   "outputs": [
    {
     "name": "stdout",
     "output_type": "stream",
     "text": [
      "[[0. 0. 0. 0. 0.]\n",
      " [0. 0. 0. 0. 0.]\n",
      " [0. 0. 0. 0. 0.]\n",
      " [0. 0. 0. 0. 0.]]\n"
     ]
    }
   ],
   "source": [
    "#method np.zeros() - is a function from the NumPy library in Python, which returns a new array of a specified shape, \n",
    "#where all the elements of the array are set to zero.\n",
    "\n",
    "a = np.zeros((4,5))\n",
    "\n",
    "print(a)"
   ]
  },
  {
   "cell_type": "code",
   "execution_count": 112,
   "id": "8ac16cd0",
   "metadata": {},
   "outputs": [
    {
     "name": "stdout",
     "output_type": "stream",
     "text": [
      "[ 0  1  2  3  4  5  6  7  8  9 10 11 12 13 14 15 16 17 18 19 20 21]\n",
      "[ 4  6  8 10 12 14 16 18 20]\n"
     ]
    }
   ],
   "source": [
    "#method np.arange() -  is a function from the NumPy library in Python, which returns an array of evenly spaced \n",
    "#values within a specified interval.\n",
    "\n",
    "a = np.arange(22)\n",
    "print(a)\n",
    "\n",
    "b = np.arange(4,21,2)\n",
    "print(b)"
   ]
  },
  {
   "cell_type": "code",
   "execution_count": 113,
   "id": "471d478e",
   "metadata": {},
   "outputs": [
    {
     "name": "stdout",
     "output_type": "stream",
     "text": [
      "[[ 1  2  3  7  8  9]\n",
      " [ 4  5  6 10 11 12]]\n",
      "[[ 1  2  3]\n",
      " [ 4  5  6]\n",
      " [ 7  8  9]\n",
      " [10 11 12]]\n"
     ]
    }
   ],
   "source": [
    "#method np.concatenate() - is a function from the NumPy library in Python, which allows you to join together \n",
    "#two or more arrays along a specified axis.\n",
    "\n",
    "a = np.array([[1,2,3],[4,5,6]])\n",
    "b = np.array([[7,8,9],[10,11,12]])\n",
    "\n",
    "c = np.concatenate((a,b),axis=1)\n",
    "d = np.concatenate((a,b),axis=0)\n",
    "print(c)\n",
    "print(d)"
   ]
  },
  {
   "cell_type": "code",
   "execution_count": 114,
   "id": "7ad9ca34",
   "metadata": {},
   "outputs": [
    {
     "name": "stdout",
     "output_type": "stream",
     "text": [
      "[[ 1  2  3  7  8  9]\n",
      " [ 4  5  6 10 11 12]]\n"
     ]
    }
   ],
   "source": [
    "#method np.hstack() - is a function from the NumPy library in Python, which allows you to horizontally \n",
    "#stack two or more arrays (i.e., concatenate them along the second axis, also known as the column axis).\n",
    "\n",
    "a = np.array([[1,2,3],[4,5,6]])\n",
    "b = np.array([[7,8,9],[10,11,12]])\n",
    "\n",
    "c = np.hstack((a,b))\n",
    "print(c)"
   ]
  },
  {
   "cell_type": "code",
   "execution_count": 115,
   "id": "b0a7d96b",
   "metadata": {},
   "outputs": [
    {
     "name": "stdout",
     "output_type": "stream",
     "text": [
      "[[ 1  2  3]\n",
      " [ 4  5  6]\n",
      " [ 7  8  9]\n",
      " [10 11 12]]\n"
     ]
    }
   ],
   "source": [
    "#method np.vstack() - is a function from the NumPy library in Python, which allows you to vertically stack \n",
    "#two or more arrays (i.e., concatenate them along the first axis, also known as the row axis).\n",
    "\n",
    "a = np.array([[1,2,3],\n",
    "              [4,5,6]])\n",
    "b = np.array([[7,8,9],\n",
    "              [10,11,12]])\n",
    "\n",
    "c = np.vstack((a,b))\n",
    "print(c)"
   ]
  },
  {
   "cell_type": "code",
   "execution_count": 116,
   "id": "4d81ac01",
   "metadata": {},
   "outputs": [
    {
     "name": "stdout",
     "output_type": "stream",
     "text": [
      "[[1. 0. 0.]\n",
      " [0. 1. 0.]\n",
      " [0. 0. 1.]\n",
      " [0. 0. 0.]]\n",
      "[[0. 0. 1. 0. 0.]\n",
      " [0. 0. 0. 1. 0.]\n",
      " [0. 0. 0. 0. 1.]\n",
      " [0. 0. 0. 0. 0.]\n",
      " [0. 0. 0. 0. 0.]]\n"
     ]
    }
   ],
   "source": [
    "#method np.eye() -  is a function from the NumPy library in Python, which allows you to create a 2-dimensional \n",
    "#array with ones on the diagonal and zeros elsewhere (i.e., an identity matrix). \n",
    "\n",
    "a = np.eye(4,3)\n",
    "print(a)\n",
    "\n",
    "b = np.eye(5,5,k=2)\n",
    "print(b)"
   ]
  },
  {
   "cell_type": "code",
   "execution_count": 117,
   "id": "9115c5e8",
   "metadata": {},
   "outputs": [
    {
     "name": "stdout",
     "output_type": "stream",
     "text": [
      "[ 1  2  3  4  5  6  9 12 24 31]\n"
     ]
    }
   ],
   "source": [
    "#method np.unique() -  is a function from the NumPy library in Python, which allows you to find the unique \n",
    "#elements of an array. \n",
    "\n",
    "a = np.array([1,2,3,3,3,4,5,6,3,3,6,9,9,12,12,31,24,24])\n",
    "\n",
    "b = np.unique(a)\n",
    "print(b)"
   ]
  },
  {
   "cell_type": "code",
   "execution_count": 118,
   "id": "e32d870a",
   "metadata": {},
   "outputs": [
    {
     "name": "stdout",
     "output_type": "stream",
     "text": [
      "(array([1, 3, 5], dtype=int64),)\n"
     ]
    }
   ],
   "source": [
    "#method np.where() - is a function from the NumPy library in Python that returns the indices where a given \n",
    "#condition is true in an array.\n",
    "\n",
    "a = np.array([1,6,3,8,5,9])\n",
    "b = np.where(a>5)\n",
    "\n",
    "print(b)"
   ]
  },
  {
   "cell_type": "code",
   "execution_count": 119,
   "id": "2b7a3cba",
   "metadata": {},
   "outputs": [
    {
     "name": "stdout",
     "output_type": "stream",
     "text": [
      "[[3 2 1]\n",
      " [6 5 4]\n",
      " [9 8 7]]\n"
     ]
    }
   ],
   "source": [
    "#method np.flip() - is a function from the NumPy library in Python that is used to reverse the order of \n",
    "#elements in an array along a specified axis.\n",
    "\n",
    "a = np.array([[1,2,3],\n",
    "              [4,5,6],\n",
    "              [7,8,9]])\n",
    "\n",
    "b = np.flip(a, axis=1)\n",
    "print(b)\n"
   ]
  },
  {
   "cell_type": "code",
   "execution_count": 120,
   "id": "9ba11795",
   "metadata": {},
   "outputs": [
    {
     "name": "stdout",
     "output_type": "stream",
     "text": [
      "[1 5 9]\n"
     ]
    }
   ],
   "source": [
    "#method np.diag() - is a function from the NumPy library in Python that is used to extract or create a diagonal \n",
    "#array or matrix from a given array.\n",
    "\n",
    "a = np.array([[1,2,3],\n",
    "              [4,5,6],\n",
    "              [7,8,9]])\n",
    "b = np.diag(a)\n",
    "\n",
    "print(b)"
   ]
  },
  {
   "cell_type": "markdown",
   "id": "8b4b7e87",
   "metadata": {},
   "source": [
    "# Randoms"
   ]
  },
  {
   "cell_type": "code",
   "execution_count": 121,
   "id": "4d66995b",
   "metadata": {},
   "outputs": [
    {
     "name": "stdout",
     "output_type": "stream",
     "text": [
      "[[[0.6136045  0.4439248 ]\n",
      "  [0.84630546 0.05162755]]\n",
      "\n",
      " [[0.66401088 0.57563289]\n",
      "  [0.80250803 0.55720754]]]\n"
     ]
    }
   ],
   "source": [
    "#method np.random.rand() - generates an array of random numbers uniformly distributed between 0 and 1.\n",
    "\n",
    "a = np.random.rand(2,2,2)\n",
    "print(a)"
   ]
  },
  {
   "cell_type": "code",
   "execution_count": 122,
   "id": "0d07343e",
   "metadata": {},
   "outputs": [
    {
     "name": "stdout",
     "output_type": "stream",
     "text": [
      "[[ 1.55947436 -0.21410167]\n",
      " [-2.17575966  1.20727277]]\n"
     ]
    }
   ],
   "source": [
    "#method np.random.randn() - is a function from the NumPy library in Python, which generates an array of random \n",
    "#numbers that are normally distributed with mean 0 and standard deviation 1.\n",
    "\n",
    "a = np.random.randn(2,2)\n",
    "print(a)"
   ]
  },
  {
   "cell_type": "code",
   "execution_count": 123,
   "id": "c18cce89",
   "metadata": {},
   "outputs": [
    {
     "name": "stdout",
     "output_type": "stream",
     "text": [
      "[[1 6 2]\n",
      " [5 9 2]]\n"
     ]
    }
   ],
   "source": [
    "#method np.random.randint() - is a function from the NumPy library in Python, which generates an array of random \n",
    "#integers between a specified minimum and maximum value.\n",
    "\n",
    "a = np.random.randint(low=0,high=10, size=(2,3))\n",
    "print(a)"
   ]
  },
  {
   "cell_type": "code",
   "execution_count": 124,
   "id": "04e9f901",
   "metadata": {},
   "outputs": [
    {
     "name": "stdout",
     "output_type": "stream",
     "text": [
      "[5 3 8]\n"
     ]
    }
   ],
   "source": [
    "#method np.random.choice() - is a function from the NumPy library in Python that generates a random sample from a \n",
    "#given 1-D array or sequence.\n",
    "\n",
    "a = np.array([1,3,5,6,4,8])\n",
    "\n",
    "b = np.random.choice(a,3,replace=False) #false - no relpy, true - reply\n",
    "\n",
    "print(b)"
   ]
  },
  {
   "cell_type": "code",
   "execution_count": 125,
   "id": "8537f7ba",
   "metadata": {},
   "outputs": [
    {
     "name": "stdout",
     "output_type": "stream",
     "text": [
      "[5 6 1 4 2 3]\n"
     ]
    }
   ],
   "source": [
    "#method np.random.shuffle() - is a function from the NumPy library in Python that shuffles the elements of a \n",
    "#given array in place.\n",
    "\n",
    "a = np.array([1,2,3,4,5,6])\n",
    "\n",
    "np.random.shuffle(a)\n",
    "print(a)\n"
   ]
  }
 ],
 "metadata": {
  "celltoolbar": "Raw Cell Format",
  "kernelspec": {
   "display_name": "Python 3 (ipykernel)",
   "language": "python",
   "name": "python3"
  },
  "language_info": {
   "codemirror_mode": {
    "name": "ipython",
    "version": 3
   },
   "file_extension": ".py",
   "mimetype": "text/x-python",
   "name": "python",
   "nbconvert_exporter": "python",
   "pygments_lexer": "ipython3",
   "version": "3.9.13"
  }
 },
 "nbformat": 4,
 "nbformat_minor": 5
}
