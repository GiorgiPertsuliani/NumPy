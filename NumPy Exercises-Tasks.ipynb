{
 "cells": [
  {
   "cell_type": "code",
   "execution_count": null,
   "id": "61d3e69e",
   "metadata": {},
   "outputs": [],
   "source": []
  },
  {
   "cell_type": "code",
   "execution_count": 2,
   "id": "28915fb0",
   "metadata": {},
   "outputs": [],
   "source": [
    "import numpy as np"
   ]
  },
  {
   "cell_type": "markdown",
   "id": "213e0293",
   "metadata": {},
   "source": [
    "# 1"
   ]
  },
  {
   "cell_type": "code",
   "execution_count": 120,
   "id": "74f22e52",
   "metadata": {},
   "outputs": [],
   "source": [
    "#Create a NumPy array containing the values [1, 2, 3]."
   ]
  },
  {
   "cell_type": "code",
   "execution_count": 125,
   "id": "3d751ac1",
   "metadata": {},
   "outputs": [
    {
     "name": "stdout",
     "output_type": "stream",
     "text": [
      "[1 2 3]\n"
     ]
    }
   ],
   "source": [
    "a = np.array([1,2,3])\n",
    "print(a)"
   ]
  },
  {
   "cell_type": "code",
   "execution_count": 121,
   "id": "65128cf8",
   "metadata": {},
   "outputs": [],
   "source": [
    "#Create a 2-dimensional NumPy array."
   ]
  },
  {
   "cell_type": "code",
   "execution_count": 127,
   "id": "540581f2",
   "metadata": {},
   "outputs": [
    {
     "name": "stdout",
     "output_type": "stream",
     "text": [
      "[[1 2 3]\n",
      " [4 5 6]]\n"
     ]
    }
   ],
   "source": [
    "b = np.array([[1,2,3],[4,5,6]])\n",
    "print(b)"
   ]
  },
  {
   "cell_type": "code",
   "execution_count": 122,
   "id": "278bb5d8",
   "metadata": {},
   "outputs": [],
   "source": [
    "#Create a 3-dimensional NumPy array."
   ]
  },
  {
   "cell_type": "code",
   "execution_count": 129,
   "id": "fb29124f",
   "metadata": {},
   "outputs": [
    {
     "name": "stdout",
     "output_type": "stream",
     "text": [
      "[[[ 1  2  3  4]\n",
      "  [ 5  6  7  8]\n",
      "  [ 9 10 11 12]]\n",
      "\n",
      " [[13 14 15 16]\n",
      "  [17 18 19 20]\n",
      "  [21 22 23 24]]]\n"
     ]
    }
   ],
   "source": [
    "c = np.array([\n",
    "    [[1, 2, 3, 4], [5, 6, 7, 8], [9, 10, 11, 12]],\n",
    "    [[13, 14, 15, 16], [17, 18, 19, 20], [21, 22, 23, 24]]])\n",
    "print(c)"
   ]
  },
  {
   "cell_type": "markdown",
   "id": "f5b22530",
   "metadata": {},
   "source": [
    "# 2"
   ]
  },
  {
   "cell_type": "code",
   "execution_count": 123,
   "id": "2217c68b",
   "metadata": {},
   "outputs": [],
   "source": [
    "#check if all elements in the NumPy array [1, 2, 3] are greater than 0."
   ]
  },
  {
   "cell_type": "code",
   "execution_count": 131,
   "id": "c5aa0f47",
   "metadata": {},
   "outputs": [
    {
     "name": "stdout",
     "output_type": "stream",
     "text": [
      "True\n"
     ]
    }
   ],
   "source": [
    "a = np.array([1,2,3])\n",
    "\n",
    "print(np.all(a>0))"
   ]
  },
  {
   "cell_type": "code",
   "execution_count": 124,
   "id": "2ff87fe3",
   "metadata": {},
   "outputs": [],
   "source": [
    "#check if any element in the NumPy array [-1, 0, 1] is greater than 0."
   ]
  },
  {
   "cell_type": "code",
   "execution_count": 134,
   "id": "4e89fd3a",
   "metadata": {},
   "outputs": [
    {
     "name": "stdout",
     "output_type": "stream",
     "text": [
      "True\n"
     ]
    }
   ],
   "source": [
    "b = np.array([-1,0,1])\n",
    "\n",
    "print(np.any(b>0))"
   ]
  },
  {
   "cell_type": "code",
   "execution_count": 10,
   "id": "89fc337a",
   "metadata": {},
   "outputs": [],
   "source": [
    "#check if all elements in the NumPy array [[1, 2], [3, 4]] are greater than 0.5."
   ]
  },
  {
   "cell_type": "code",
   "execution_count": 135,
   "id": "702f58d1",
   "metadata": {},
   "outputs": [
    {
     "name": "stdout",
     "output_type": "stream",
     "text": [
      "True\n"
     ]
    }
   ],
   "source": [
    "c = np.array([[1,2],[3,4]])\n",
    "\n",
    "print(np.all(c>0.5))"
   ]
  },
  {
   "cell_type": "code",
   "execution_count": 12,
   "id": "f6d92ad1",
   "metadata": {},
   "outputs": [],
   "source": [
    "#Use the appropriate NumPy function to check if any element in the array is true."
   ]
  },
  {
   "cell_type": "code",
   "execution_count": 137,
   "id": "cf57c406",
   "metadata": {},
   "outputs": [
    {
     "name": "stdout",
     "output_type": "stream",
     "text": [
      "True\n"
     ]
    }
   ],
   "source": [
    "d = np.array([True, False, True])\n",
    "\n",
    "print(np.any(d))"
   ]
  },
  {
   "cell_type": "markdown",
   "id": "c5fca661",
   "metadata": {},
   "source": [
    "# 3"
   ]
  },
  {
   "cell_type": "code",
   "execution_count": 69,
   "id": "9ed79dd7",
   "metadata": {},
   "outputs": [],
   "source": [
    "#Write a Python function that takes a 1D numpy array as input and returns a copy of the array with the data type converted to int."
   ]
  },
  {
   "cell_type": "code",
   "execution_count": 143,
   "id": "d3431b54",
   "metadata": {},
   "outputs": [
    {
     "name": "stdout",
     "output_type": "stream",
     "text": [
      "[1 1 2]\n"
     ]
    }
   ],
   "source": [
    "a = np.array([1.3,1.6,2.2])\n",
    "\n",
    "x = a.astype('int')\n",
    "print(x)"
   ]
  },
  {
   "cell_type": "code",
   "execution_count": 144,
   "id": "faf0c9c3",
   "metadata": {},
   "outputs": [],
   "source": [
    "#Write a Python function that takes a 2D numpy array as input and returns a copy of the array \n",
    "#with the data type converted to float"
   ]
  },
  {
   "cell_type": "code",
   "execution_count": 149,
   "id": "ca74dfe8",
   "metadata": {},
   "outputs": [
    {
     "name": "stdout",
     "output_type": "stream",
     "text": [
      "[1. 2. 3.]\n"
     ]
    }
   ],
   "source": [
    "b = np.array([1,2,3])\n",
    "\n",
    "y = b.astype('float')\n",
    "print(y)"
   ]
  },
  {
   "cell_type": "code",
   "execution_count": 76,
   "id": "e74ede17",
   "metadata": {},
   "outputs": [],
   "source": [
    "#You have an array a of size (3,3) that contains random float values between -1 and 1. \n",
    "#create a new array b of the same size, where each element of b is clipped to a range between -0.5 and 0.5. \n",
    "#Print both arrays a and b to compare the original and clipped values."
   ]
  },
  {
   "cell_type": "code",
   "execution_count": 197,
   "id": "79faa6fe",
   "metadata": {},
   "outputs": [
    {
     "name": "stdout",
     "output_type": "stream",
     "text": [
      "[[-0.0458328   0.85010842  0.3217825 ]\n",
      " [-0.05653345  0.93793015 -0.12867906]\n",
      " [-0.3962936   0.22907169  0.5067217 ]]\n",
      "[[-0.0458328   0.5         0.3217825 ]\n",
      " [-0.05653345  0.5        -0.12867906]\n",
      " [-0.3962936   0.22907169  0.5       ]]\n"
     ]
    }
   ],
   "source": [
    "a = np.random.uniform(-1,1,(3,3))\n",
    "print(a)\n",
    "\n",
    "b = np.clip(a,-0.5,0.5)\n",
    "print(b)"
   ]
  },
  {
   "cell_type": "code",
   "execution_count": 77,
   "id": "605588e9",
   "metadata": {},
   "outputs": [],
   "source": [
    "#You have an array a of size (5,5) that contains random integer values between 1 and 100.\n",
    "#create a new array b of the same size, where each element of b is clipped to a range between \n",
    "#the 25th and 75th percentile of the values in a. Print both arrays a and b to compare the original and clipped values."
   ]
  },
  {
   "cell_type": "code",
   "execution_count": 206,
   "id": "a282cfbf",
   "metadata": {},
   "outputs": [
    {
     "name": "stdout",
     "output_type": "stream",
     "text": [
      "[[ 24  71   9  84 100]\n",
      " [ 87  84  75   2   3]\n",
      " [ 50  34  98  31  14]\n",
      " [ 91  44  53  21  22]\n",
      " [ 33  18  96  13  92]]\n",
      "The 25th percentile of the random range: 21.0\n",
      "The 75th percentile of the random range: 84.0\n",
      "[[24. 71. 21. 84. 84.]\n",
      " [84. 84. 75. 21. 21.]\n",
      " [50. 34. 84. 31. 21.]\n",
      " [84. 44. 53. 21. 22.]\n",
      " [33. 21. 84. 21. 84.]]\n"
     ]
    }
   ],
   "source": [
    "a = np.random.randint(1,101,(5,5))\n",
    "print(a)\n",
    "\n",
    "print(f'The 25th percentile of the random range: {np.percentile(a,25)}')\n",
    "print(f'The 75th percentile of the random range: {np.percentile(a,75)}')\n",
    "\n",
    "b = np.clip(a,np.percentile(a,25),np.percentile(a,75))\n",
    "print(b)"
   ]
  },
  {
   "cell_type": "markdown",
   "id": "61624796",
   "metadata": {},
   "source": [
    "# 4"
   ]
  },
  {
   "cell_type": "code",
   "execution_count": 78,
   "id": "3af2e311",
   "metadata": {},
   "outputs": [],
   "source": [
    "#Create an array a of size (3,3) with random integer values between 0 and 9. create a new array b that is a copy of \n",
    "#a (numpy.copy()). Modify the value of an element in b, and then print both a and b to compare the original and \n",
    "#modified values. What do you notice about the changes to b?"
   ]
  },
  {
   "cell_type": "code",
   "execution_count": 210,
   "id": "df347abd",
   "metadata": {},
   "outputs": [
    {
     "name": "stdout",
     "output_type": "stream",
     "text": [
      "[[3 0 2]\n",
      " [2 9 5]\n",
      " [3 1 1]]\n",
      "[[ 3  0  2]\n",
      " [ 2 99  5]\n",
      " [ 3  1  1]]\n"
     ]
    }
   ],
   "source": [
    "a = np.random.randint(0,10,(3,3))\n",
    "\n",
    "b = np.copy(a)\n",
    "b[1,1] = 99\n",
    "\n",
    "print(a)\n",
    "print(b)\n",
    "#modification to b does not affect the values in a. This is because np.copy() creates a new array with the same shape \n",
    "#and data as the original array, but with a new memory location."
   ]
  },
  {
   "cell_type": "code",
   "execution_count": 211,
   "id": "4f2a17a5",
   "metadata": {},
   "outputs": [],
   "source": [
    "#Create an array a of size (5,5) with random float values between 0 and 1. create a new array b that is a copy of a. \n",
    "#Modify the values of elements in a such that they are all 1.0. Then, print both a and b to confirm that only \n",
    "#a was modified and b remains unchanged."
   ]
  },
  {
   "cell_type": "code",
   "execution_count": 227,
   "id": "0a16b056",
   "metadata": {},
   "outputs": [
    {
     "name": "stdout",
     "output_type": "stream",
     "text": [
      "[[0.37313804 0.64466292 0.89640918 0.84178044 0.27472591]\n",
      " [0.56706606 0.69199144 0.10693686 0.85161939 0.27264167]\n",
      " [0.12107449 0.16653154 0.01037735 0.87059633 0.28947867]\n",
      " [0.44360833 0.92066713 0.21868071 0.99611785 0.19760816]\n",
      " [0.23161666 0.70200288 0.2777557  0.72593    0.87330237]]\n",
      "[[0.37313804 0.64466292 0.89640918 0.84178044 0.27472591]\n",
      " [0.56706606 0.69199144 0.10693686 0.85161939 0.27264167]\n",
      " [0.12107449 0.16653154 0.01037735 0.87059633 0.28947867]\n",
      " [0.44360833 0.92066713 0.21868071 0.99611785 0.19760816]\n",
      " [0.23161666 0.70200288 0.2777557  0.72593    0.87330237]]\n",
      "[[0.37313804 0.64466292 0.89640918 0.84178044 0.27472591]\n",
      " [0.56706606 9.         0.10693686 0.85161939 0.27264167]\n",
      " [0.12107449 0.16653154 0.01037735 0.87059633 0.28947867]\n",
      " [0.44360833 0.92066713 0.21868071 0.99611785 0.19760816]\n",
      " [0.23161666 0.70200288 0.2777557  0.72593    0.87330237]]\n",
      "b is unchanged:[[0.37313804 0.64466292 0.89640918 0.84178044 0.27472591]\n",
      " [0.56706606 0.69199144 0.10693686 0.85161939 0.27264167]\n",
      " [0.12107449 0.16653154 0.01037735 0.87059633 0.28947867]\n",
      " [0.44360833 0.92066713 0.21868071 0.99611785 0.19760816]\n",
      " [0.23161666 0.70200288 0.2777557  0.72593    0.87330237]]\n"
     ]
    }
   ],
   "source": [
    "a = np.random.rand(5,5)\n",
    "print(a)\n",
    "\n",
    "b = np.copy(a)\n",
    "print(b)\n",
    "\n",
    "a[1,1] = 9\n",
    "print(a)\n",
    "print(f'b is unchanged:{b}')"
   ]
  },
  {
   "cell_type": "markdown",
   "id": "18443ce0",
   "metadata": {},
   "source": [
    "# 5"
   ]
  },
  {
   "cell_type": "code",
   "execution_count": 80,
   "id": "3e8efa25",
   "metadata": {},
   "outputs": [],
   "source": [
    "#Create an array a of size (4,4) with random integer values between 1 and 10. compute the cumulative product \n",
    "#of elements in a along both axes. Print the resulting arrays to compare the intermediate and final results \n",
    "#of the cumulative product."
   ]
  },
  {
   "cell_type": "code",
   "execution_count": 231,
   "id": "55a54030",
   "metadata": {},
   "outputs": [
    {
     "name": "stdout",
     "output_type": "stream",
     "text": [
      "[[ 1  8  8  3]\n",
      " [ 7  3  5 10]\n",
      " [ 7  7  7  7]\n",
      " [ 5  4  8  6]]\n",
      "[[   1    8   64  192]\n",
      " [   7   21  105 1050]\n",
      " [   7   49  343 2401]\n",
      " [   5   20  160  960]]\n",
      "[[   1    8    8    3]\n",
      " [   7   24   40   30]\n",
      " [  49  168  280  210]\n",
      " [ 245  672 2240 1260]]\n"
     ]
    }
   ],
   "source": [
    "a = np.random.randint(1,11,(4,4))\n",
    "\n",
    "axis1 = np.cumprod(a,axis=1)\n",
    "axis2 = np.cumprod(a,axis=0)\n",
    "\n",
    "print(a)\n",
    "print(axis1)\n",
    "print(axis2)"
   ]
  },
  {
   "cell_type": "code",
   "execution_count": 81,
   "id": "bfd41b5a",
   "metadata": {},
   "outputs": [],
   "source": [
    "#Create an array a of size (3,3) with random float values between 0 and 1. compute the cumulative product \n",
    "#of elements in a along the first axis. Then, use np.sum() to compute the sum of elements in the resulting array. \n",
    "#Compare the sum to the final element of the original a."
   ]
  },
  {
   "cell_type": "code",
   "execution_count": 242,
   "id": "e4d78e1f",
   "metadata": {},
   "outputs": [
    {
     "name": "stdout",
     "output_type": "stream",
     "text": [
      "[[0.65682465 0.63002653 0.69094575]\n",
      " [0.15518027 0.13996479 0.41508213]\n",
      " [0.4249166  0.61537327 0.71014853]]\n",
      "[[0.65682465 0.41381696 0.28592507]\n",
      " [0.15518027 0.02171977 0.00901549]\n",
      " [0.4249166  0.26148232 0.18569128]]\n",
      "sum of the 3rd column in a: 1.8161764139071588\n"
     ]
    }
   ],
   "source": [
    "a = np.random.rand(3,3)\n",
    "print(a)\n",
    "\n",
    "axis1 = np.cumprod(a,axis=1)\n",
    "print(axis1)\n",
    "\n",
    "col_sum = a[:,2].sum()\n",
    "print(f'sum of the 3rd column in a: {col_sum}')"
   ]
  },
  {
   "cell_type": "markdown",
   "id": "dc73ca3b",
   "metadata": {},
   "source": [
    "# 6"
   ]
  },
  {
   "cell_type": "code",
   "execution_count": 243,
   "id": "3034f734",
   "metadata": {},
   "outputs": [],
   "source": [
    "#Create an array a of size (4,4) with random integer values between 1 and 10. compute the cumulative sum of \n",
    "#elements in a along both axes. Print the resulting arrays to compare the intermediate and final results of \n",
    "#the cumulative sum."
   ]
  },
  {
   "cell_type": "code",
   "execution_count": 248,
   "id": "0de03f40",
   "metadata": {},
   "outputs": [
    {
     "name": "stdout",
     "output_type": "stream",
     "text": [
      "[[ 4  6 10  3]\n",
      " [ 9  3  3  8]\n",
      " [ 3  3  3  1]\n",
      " [ 7  5  9  6]]\n",
      "[[ 4 10 20 23]\n",
      " [ 9 12 15 23]\n",
      " [ 3  6  9 10]\n",
      " [ 7 12 21 27]]\n",
      "[[ 4  6 10  3]\n",
      " [13  9 13 11]\n",
      " [16 12 16 12]\n",
      " [23 17 25 18]]\n"
     ]
    }
   ],
   "source": [
    "a = np.random.randint(1,11,(4,4))\n",
    "b = np.cumsum(a,axis=1)\n",
    "c = np.cumsum(a,axis=0)\n",
    "\n",
    "print(a)\n",
    "print(b)\n",
    "print(c)"
   ]
  },
  {
   "cell_type": "code",
   "execution_count": 83,
   "id": "586e2475",
   "metadata": {},
   "outputs": [],
   "source": [
    "#Create an array a of size (3,3) with random float values between 0 and 1. compute the cumulative sum \n",
    "#of elements in a along the second axis. Then, use np.mean() to compute the mean of elements in the resulting array. \n",
    "#Compare the mean to the final row of the original a, also the final row of the cumulative sum."
   ]
  },
  {
   "cell_type": "code",
   "execution_count": 254,
   "id": "9301b0ab",
   "metadata": {},
   "outputs": [
    {
     "name": "stdout",
     "output_type": "stream",
     "text": [
      "[[0.89244794 0.34226777 0.91247661]\n",
      " [0.32109306 0.75156799 0.28460797]\n",
      " [0.75646183 0.69446178 0.61020586]]\n",
      "[[0.89244794 0.34226777 0.91247661]\n",
      " [1.213541   1.09383575 1.19708458]\n",
      " [1.97000283 1.78829753 1.80729043]]\n",
      "2.061129463120484\n",
      "5.565590790859906\n"
     ]
    }
   ],
   "source": [
    "a = np.random.rand(3,3)\n",
    "b = np.cumsum(a,axis=0)\n",
    "\n",
    "print(a)\n",
    "print(b)\n",
    "\n",
    "print(np.sum(a[-1,:]))\n",
    "print(np.sum(b[-1,:]))"
   ]
  },
  {
   "cell_type": "markdown",
   "id": "ad83f722",
   "metadata": {},
   "source": [
    "# 7"
   ]
  },
  {
   "cell_type": "code",
   "execution_count": 255,
   "id": "337bc0d9",
   "metadata": {},
   "outputs": [],
   "source": [
    "#Create a 2D array a of size (5,5) with random integer values between 1 and 10. extract the main diagonal of \n",
    "#a and store it in a 1D array d. Then, compute the sum of elements in d. Compare the sum to the sum of elements \n",
    "#in the anti-diagonal of a."
   ]
  },
  {
   "cell_type": "code",
   "execution_count": 276,
   "id": "7c53c886",
   "metadata": {},
   "outputs": [
    {
     "name": "stdout",
     "output_type": "stream",
     "text": [
      "[[10  3  8  3  3]\n",
      " [ 2  5  7  9  6]\n",
      " [ 7  3  6  9  1]\n",
      " [ 4  2  6  4  9]\n",
      " [ 4 10 10 10 10]]\n",
      "extracting the maind diagonal of d: [10  5  6  4 10]\n",
      "sum of the diagonal: 35\n",
      "sum of the anti-diagonal: 24\n"
     ]
    }
   ],
   "source": [
    "a = np.random.randint(1,11,(5,5))\n",
    "print(a)\n",
    "d = np.diagonal(a)\n",
    "print(f'extracting the maind diagonal of d: {d}')\n",
    "print(f'sum of the diagonal: {np.sum(d)}')\n",
    "anti_d = np.diagonal(np.fliplr(a))\n",
    "print(f'sum of the anti-diagonal: {np.sum(anti_d)}')"
   ]
  },
  {
   "cell_type": "markdown",
   "id": "db4fbc6c",
   "metadata": {},
   "source": [
    "# 8"
   ]
  },
  {
   "cell_type": "code",
   "execution_count": 86,
   "id": "1b13d051",
   "metadata": {},
   "outputs": [],
   "source": [
    "#Create a 4x4 NumPy array filled with the value 7"
   ]
  },
  {
   "cell_type": "code",
   "execution_count": 283,
   "id": "fd129260",
   "metadata": {},
   "outputs": [
    {
     "name": "stdout",
     "output_type": "stream",
     "text": [
      "[[7 7 7 7]\n",
      " [7 7 7 7]\n",
      " [7 7 7 7]\n",
      " [7 7 7 7]]\n"
     ]
    }
   ],
   "source": [
    "a = np.full((4,4),7)\n",
    "print(a)"
   ]
  },
  {
   "cell_type": "code",
   "execution_count": 29,
   "id": "2b5d22bd",
   "metadata": {},
   "outputs": [],
   "source": [
    "#Create a 2D NumPy array of size (3, 5) with all elements initialized to -1"
   ]
  },
  {
   "cell_type": "code",
   "execution_count": 284,
   "id": "04c51f36",
   "metadata": {},
   "outputs": [
    {
     "name": "stdout",
     "output_type": "stream",
     "text": [
      "[[-1 -1 -1 -1]\n",
      " [-1 -1 -1 -1]\n",
      " [-1 -1 -1 -1]]\n"
     ]
    }
   ],
   "source": [
    "a = np.full((3,4),-1)\n",
    "print(a)"
   ]
  },
  {
   "cell_type": "code",
   "execution_count": 285,
   "id": "a12421e3",
   "metadata": {},
   "outputs": [],
   "source": [
    "#Create a NumPy array of size (2, 2) filled with the value 6. \n",
    "#Then create a new array of size (4,1) where the elements are ordered in row-major order."
   ]
  },
  {
   "cell_type": "code",
   "execution_count": 290,
   "id": "03a97b21",
   "metadata": {},
   "outputs": [
    {
     "name": "stdout",
     "output_type": "stream",
     "text": [
      "[[6 6]\n",
      " [6 6]]\n",
      "[[0]\n",
      " [1]\n",
      " [3]\n",
      " [5]]\n"
     ]
    }
   ],
   "source": [
    "a = np.full((2,2),6)\n",
    "print(a)\n",
    "b = np.array([[3],[5],[1],[0]])\n",
    "\n",
    "print(np.sort(b,axis=0))"
   ]
  },
  {
   "cell_type": "markdown",
   "id": "1b0be999",
   "metadata": {},
   "source": [
    "# 9"
   ]
  },
  {
   "cell_type": "code",
   "execution_count": 291,
   "id": "e5e4f43e",
   "metadata": {},
   "outputs": [],
   "source": [
    "#Write a function that takes a 2D numpy array as input and flattens it. The function should then return a \n",
    "#new 1D numpy array with the same elements as the flattened 2D array."
   ]
  },
  {
   "cell_type": "code",
   "execution_count": 297,
   "id": "37f051e4",
   "metadata": {},
   "outputs": [
    {
     "name": "stdout",
     "output_type": "stream",
     "text": [
      "[[89 87 70 90 37]\n",
      " [92 58 57 66 38]\n",
      " [28 52  5 70 95]]\n",
      "Flattened a/2D array: [89 87 70 90 37 92 58 57 66 38 28 52  5 70 95]\n"
     ]
    }
   ],
   "source": [
    "a = np.random.randint(1,101,(3,5))\n",
    "\n",
    "print(a)\n",
    "print(f'Flattened a/2D array: {a.flatten()}')"
   ]
  },
  {
   "cell_type": "code",
   "execution_count": 292,
   "id": "0b9c89a5",
   "metadata": {},
   "outputs": [],
   "source": [
    "#Create a 2D numpy array of shape (2, 3, 4) filled with random integers. flatten the array and then reshape \n",
    "#the flattened array into a new array of shape (3, 8)."
   ]
  },
  {
   "cell_type": "code",
   "execution_count": 302,
   "id": "bbf869a5",
   "metadata": {},
   "outputs": [
    {
     "name": "stdout",
     "output_type": "stream",
     "text": [
      "[[[44 56 76  7]\n",
      "  [27 85 34 67]\n",
      "  [76 62 78 41]]\n",
      "\n",
      " [[49 70 61 62]\n",
      "  [37 28 89 20]\n",
      "  [36 93 52 67]]]\n",
      "[44 56 76  7 27 85 34 67 76 62 78 41 49 70 61 62 37 28 89 20 36 93 52 67]\n",
      "[[44 56 76  7 27 85 34 67]\n",
      " [76 62 78 41 49 70 61 62]\n",
      " [37 28 89 20 36 93 52 67]]\n"
     ]
    }
   ],
   "source": [
    "a = np.random.randint(1,101,(2,3,4))\n",
    "print(a)\n",
    "b = a.flatten()\n",
    "print(b)\n",
    "c = np.reshape(b,(3,8))\n",
    "print(c)"
   ]
  },
  {
   "cell_type": "markdown",
   "id": "1bdd0bc5",
   "metadata": {},
   "source": [
    "# 10"
   ]
  },
  {
   "cell_type": "code",
   "execution_count": 33,
   "id": "15abb07e",
   "metadata": {},
   "outputs": [],
   "source": [
    "#Create a 1D numpy array filled with random integers. retrieve the first element of the array and store it in a variable."
   ]
  },
  {
   "cell_type": "code",
   "execution_count": 309,
   "id": "b889c249",
   "metadata": {},
   "outputs": [
    {
     "name": "stdout",
     "output_type": "stream",
     "text": [
      "[[ 1  3 10  6]]\n",
      "the first element of the array: 1\n"
     ]
    }
   ],
   "source": [
    "a = np.random.randint(1,11,(1,4))\n",
    "print(a)\n",
    "b = a.item(0)\n",
    "print(f'the first element of the array: {b}')"
   ]
  },
  {
   "cell_type": "code",
   "execution_count": 34,
   "id": "7ef2be8f",
   "metadata": {},
   "outputs": [],
   "source": [
    "#Create a 3D numpy array of shape (2, 3, 4) filled with random integers. retrieve a specific element of the \n",
    "#array and store it in a variable."
   ]
  },
  {
   "cell_type": "code",
   "execution_count": 315,
   "id": "a50008c6",
   "metadata": {},
   "outputs": [
    {
     "name": "stdout",
     "output_type": "stream",
     "text": [
      "[[[47 94 61 63]\n",
      "  [61 30 70 73]\n",
      "  [95 72  4 83]]\n",
      "\n",
      " [[18 52 73 30]\n",
      "  [90 17 95 91]\n",
      "  [29 29 38 53]]]\n",
      "18\n"
     ]
    }
   ],
   "source": [
    "a = np.random.randint(1,101,(2,3,4))\n",
    "print(a)\n",
    "b = a.item(12)\n",
    "print(b)"
   ]
  },
  {
   "cell_type": "markdown",
   "id": "a9be9250",
   "metadata": {},
   "source": [
    "# 11"
   ]
  },
  {
   "cell_type": "code",
   "execution_count": 35,
   "id": "de57575d",
   "metadata": {},
   "outputs": [],
   "source": [
    "#Given a 2D array arr, find the minimum value in each row and find the maximum value in each column."
   ]
  },
  {
   "cell_type": "code",
   "execution_count": 322,
   "id": "e384b5cd",
   "metadata": {},
   "outputs": [
    {
     "name": "stdout",
     "output_type": "stream",
     "text": [
      "[[180 134 123 110 190 111]\n",
      " [149 179 166 185 182 155]\n",
      " [148 142 139 151 176 153]\n",
      " [173 199 139 199 190 184]]\n",
      "minimum value in every column: [148 134 123 110 176 111]\n",
      "minimum value in every row: [110 149 139 139]\n"
     ]
    }
   ],
   "source": [
    "a = np.random.randint(101,201,(4,6))\n",
    "print(a)\n",
    "\n",
    "column_min = np.min(a, axis=0)\n",
    "row_min = np.min(a, axis=1)\n",
    "\n",
    "print(f'minimum value in every column: {column_min}')\n",
    "print(f'minimum value in every row: {row_min}')"
   ]
  },
  {
   "cell_type": "code",
   "execution_count": 36,
   "id": "482ded66",
   "metadata": {},
   "outputs": [],
   "source": [
    "#Create a random array of size 10x10 using np.random.rand. find the minimum and maximum values in the entire array."
   ]
  },
  {
   "cell_type": "code",
   "execution_count": 323,
   "id": "e7abaf67",
   "metadata": {},
   "outputs": [
    {
     "name": "stdout",
     "output_type": "stream",
     "text": [
      "minimum value of an array a: 0.001411961404731099\n",
      "maximum value of an array a: 0.9915346382618263\n"
     ]
    }
   ],
   "source": [
    "a = np.random.rand(10,10)\n",
    "print(f'minimum value of an array a: {np.min(a)}')\n",
    "print(f'maximum value of an array a: {np.max(a)}')"
   ]
  },
  {
   "cell_type": "markdown",
   "id": "3af34fb6",
   "metadata": {},
   "source": [
    "# 12"
   ]
  },
  {
   "cell_type": "code",
   "execution_count": 38,
   "id": "95dbbe51",
   "metadata": {},
   "outputs": [],
   "source": [
    "#Create a numpy array a with random integers between 1 and 10. Calculate the mean of a."
   ]
  },
  {
   "cell_type": "code",
   "execution_count": 339,
   "id": "d8395cf0",
   "metadata": {},
   "outputs": [
    {
     "name": "stdout",
     "output_type": "stream",
     "text": [
      "the mean of a: 4.333333333333333\n"
     ]
    }
   ],
   "source": [
    "print(f'the mean of a: {np.random.randint(1,11,(3,4)).mean()}')"
   ]
  },
  {
   "cell_type": "code",
   "execution_count": 39,
   "id": "3f9fbe6c",
   "metadata": {},
   "outputs": [],
   "source": [
    "#Create a 2D numpy array b with random floats between 0 and 1. Calculate the mean of each row and each column."
   ]
  },
  {
   "cell_type": "code",
   "execution_count": 346,
   "id": "01dd9c9f",
   "metadata": {},
   "outputs": [
    {
     "name": "stdout",
     "output_type": "stream",
     "text": [
      "[[0.77028786 0.91036732 0.68417004]\n",
      " [0.03646871 0.21672203 0.05603761]]\n",
      "the mean of row1/row2 is: [0.78827507 0.10307611]\n",
      "the mean of column1/column2 is: [0.40337828 0.56354467 0.37010382]\n"
     ]
    }
   ],
   "source": [
    "a = np.random.rand(2,3)\n",
    "print(a)\n",
    "\n",
    "print(f'the mean of row1/row2 is: {np.mean(a,axis=1)}')\n",
    "print(f'the mean of column1/column2 is: {np.mean(a,axis=0)}')"
   ]
  },
  {
   "cell_type": "code",
   "execution_count": 347,
   "id": "98b3da59",
   "metadata": {},
   "outputs": [],
   "source": [
    "#Create a numpy array e of shape (4, 4) with random integers between 1 and 10. \n",
    "#Calculate the mean of the elements in the diagonal of e."
   ]
  },
  {
   "cell_type": "code",
   "execution_count": 354,
   "id": "bedad67b",
   "metadata": {},
   "outputs": [
    {
     "name": "stdout",
     "output_type": "stream",
     "text": [
      "[[ 2  6  2  4]\n",
      " [ 1  3  2  6]\n",
      " [ 3  8 10  5]\n",
      " [ 3  5  2  5]]\n",
      "5.0\n"
     ]
    }
   ],
   "source": [
    "e = np.random.randint(1,11,(4,4))\n",
    "print(e)\n",
    "\n",
    "d = np.diagonal(e).mean()\n",
    "print(d)"
   ]
  },
  {
   "cell_type": "code",
   "execution_count": 41,
   "id": "2884f02f",
   "metadata": {},
   "outputs": [],
   "source": [
    "#Create two numpy arrays h1 and h2 with random integers between 1 and 10 and concatenate them vertically \n",
    "#to create a 2D array h. Calculate the mean of each row of h."
   ]
  },
  {
   "cell_type": "code",
   "execution_count": 364,
   "id": "b95cfb64",
   "metadata": {},
   "outputs": [
    {
     "name": "stdout",
     "output_type": "stream",
     "text": [
      "[7 1 3 2 3]\n",
      "[ 9 10  7  7  5]\n",
      "the mean of each row of h: [3.2 7.6]\n"
     ]
    }
   ],
   "source": [
    "h1 = np.random.randint(1,11,5)\n",
    "h2 = np.random.randint(1,11,5)\n",
    "print(h1)\n",
    "print(h2)\n",
    "\n",
    "h = np.vstack((h1,h2))\n",
    "print(h)\n",
    "\n",
    "print(f'the mean of each row of h: {np.mean(h,axis=1)}')"
   ]
  },
  {
   "cell_type": "markdown",
   "id": "836d2904",
   "metadata": {},
   "source": [
    "# 13"
   ]
  },
  {
   "cell_type": "code",
   "execution_count": 1,
   "id": "dbe937cb",
   "metadata": {},
   "outputs": [],
   "source": [
    "#Create a NumPy array with some zeros and non-zero elements. find the indices of the non-zero elements."
   ]
  },
  {
   "cell_type": "code",
   "execution_count": 370,
   "id": "ba23d8ef",
   "metadata": {},
   "outputs": [
    {
     "name": "stdout",
     "output_type": "stream",
     "text": [
      "(array([0, 2, 3], dtype=int64),)\n"
     ]
    }
   ],
   "source": [
    "x = np.array([1,0,4,2,0,0])\n",
    "\n",
    "print(np.nonzero(x))"
   ]
  },
  {
   "cell_type": "markdown",
   "id": "ce2955f6",
   "metadata": {},
   "source": [
    "# 14"
   ]
  },
  {
   "cell_type": "code",
   "execution_count": 3,
   "id": "a563ced9",
   "metadata": {},
   "outputs": [],
   "source": [
    "#Given a numpy array a, find the product of all its elements Then, replace all the negative elements in a \n",
    "#with 1 and again find the product of all the elements in a. Compare the two results."
   ]
  },
  {
   "cell_type": "code",
   "execution_count": 10,
   "id": "7a20ada2",
   "metadata": {},
   "outputs": [
    {
     "name": "stdout",
     "output_type": "stream",
     "text": [
      "the product of all elements in array a: 2021760\n",
      "the product of all elements in array a(after replacement): 1248\n"
     ]
    }
   ],
   "source": [
    "a = np.array([[1,2,-6],\n",
    "              [4,-2,-9],\n",
    "              [12,-15,13]])\n",
    "\n",
    "print(f'the product of all elements in array a: {np.prod(a)}')\n",
    "a[a<0] = 1 \n",
    "print(f'the product of all elements in array a(after replacement): {np.prod(a)}')"
   ]
  },
  {
   "cell_type": "code",
   "execution_count": 4,
   "id": "2a5cc2b9",
   "metadata": {},
   "outputs": [],
   "source": [
    "#Create a numpy array a of shape (5,6) with random values. Reshape the array into a new shape of (2,3,5). \n",
    "#Then, find the product of all the elements along the third axis"
   ]
  },
  {
   "cell_type": "code",
   "execution_count": 37,
   "id": "c6d1380b",
   "metadata": {},
   "outputs": [
    {
     "name": "stdout",
     "output_type": "stream",
     "text": [
      "[[0.85700625 0.26805963 0.80656841 0.60381134 0.94060561 0.17623331]\n",
      " [0.74917952 0.20002779 0.92972008 0.51723828 0.72329085 0.91798582]\n",
      " [0.35947091 0.24088855 0.48963201 0.63911012 0.25082447 0.37979606]\n",
      " [0.05423441 0.97684253 0.65435121 0.69133821 0.27928777 0.64337596]\n",
      " [0.5534224  0.9843138  0.5080779  0.9748266  0.81477398 0.84686197]]\n",
      "[[[0.85700625 0.26805963 0.80656841 0.60381134 0.94060561]\n",
      "  [0.17623331 0.74917952 0.20002779 0.92972008 0.51723828]\n",
      "  [0.72329085 0.91798582 0.35947091 0.24088855 0.48963201]]\n",
      "\n",
      " [[0.63911012 0.25082447 0.37979606 0.05423441 0.97684253]\n",
      "  [0.65435121 0.69133821 0.27928777 0.64337596 0.5534224 ]\n",
      "  [0.9843138  0.5080779  0.9748266  0.81477398 0.84686197]]]\n",
      "the product of all the elements along the third axis: [[0.10523627 0.0127001  0.02815131]\n",
      " [0.00322549 0.04498575 0.33638841]]\n"
     ]
    }
   ],
   "source": [
    "a = np.random.rand(5,6)\n",
    "print(a)\n",
    "b = a.reshape(2,3,5)\n",
    "print(b)\n",
    "print(f'the product of all the elements along the third axis: {np.prod(b, axis=2)}')"
   ]
  },
  {
   "cell_type": "markdown",
   "id": "8205360e",
   "metadata": {},
   "source": [
    "# 15"
   ]
  },
  {
   "cell_type": "code",
   "execution_count": 5,
   "id": "238a0218",
   "metadata": {},
   "outputs": [],
   "source": [
    "#Given an array a and an array indices, replace the elements at the specified indices with a given value val."
   ]
  },
  {
   "cell_type": "code",
   "execution_count": 38,
   "id": "e498b3d0",
   "metadata": {},
   "outputs": [
    {
     "name": "stdout",
     "output_type": "stream",
     "text": [
      "Original Array: [1 2 3 4 5]\n",
      "Array after replacing elements at specified indices with 'val': [ 1 10  3 10  5]\n"
     ]
    }
   ],
   "source": [
    "a = np.array([1, 2, 3, 4, 5])\n",
    "indices = np.array([1, 3])\n",
    "val = 10\n",
    "\n",
    "# Replace elements of 'a' at specified indices with 'val'\n",
    "np.put(a, indices, val)\n",
    "\n",
    "print(\"Original Array:\", np.array([1, 2, 3, 4, 5]))\n",
    "print(\"Array after replacing elements at specified indices with 'val':\", a)"
   ]
  },
  {
   "cell_type": "code",
   "execution_count": 6,
   "id": "e556b37d",
   "metadata": {},
   "outputs": [],
   "source": [
    "#Given an array a and a list of indices to be replaced with values from a separate array b, replace the elements of a at the specified indices with the corresponding values from b"
   ]
  },
  {
   "cell_type": "code",
   "execution_count": 39,
   "id": "546a4de9",
   "metadata": {},
   "outputs": [
    {
     "name": "stdout",
     "output_type": "stream",
     "text": [
      "Original Array: [1 2 3 4 5]\n",
      "Array after replacing elements at specified indices with values from 'b': [ 1 10  3 20  5]\n"
     ]
    }
   ],
   "source": [
    "a = np.array([1, 2, 3, 4, 5])\n",
    "indices = [1, 3]\n",
    "b = np.array([10, 20])\n",
    "\n",
    "# Replace elements of 'a' at specified indices with values from 'b'\n",
    "a[indices] = b\n",
    "\n",
    "print(\"Original Array:\", np.array([1, 2, 3, 4, 5]))\n",
    "print(\"Array after replacing elements at specified indices with values from 'b':\", a)"
   ]
  },
  {
   "cell_type": "markdown",
   "id": "3802b170",
   "metadata": {},
   "source": [
    "# 16"
   ]
  },
  {
   "cell_type": "code",
   "execution_count": 7,
   "id": "76a394fc",
   "metadata": {},
   "outputs": [],
   "source": [
    "#Given a 2D NumPy array arr, flatten the array and store the result in a new variable flat_arr. \n",
    "#Then, print the flattened array and its shape."
   ]
  },
  {
   "cell_type": "code",
   "execution_count": 46,
   "id": "cd6fd096",
   "metadata": {},
   "outputs": [
    {
     "name": "stdout",
     "output_type": "stream",
     "text": [
      "[[7 9 7 6]\n",
      " [6 4 4 7]\n",
      " [2 9 7 6]]\n",
      "[7 9 7 6 6 4 4 7 2 9 7 6]\n",
      "(12,)\n"
     ]
    }
   ],
   "source": [
    "a = np.random.randint(1,11,(3,4))\n",
    "print(a)\n",
    "flat_arr = np.ravel(a)\n",
    "print(flat_arr)\n",
    "b = np.shape(flat_arr)\n",
    "print(b)"
   ]
  },
  {
   "cell_type": "code",
   "execution_count": 47,
   "id": "480208d7",
   "metadata": {},
   "outputs": [],
   "source": [
    "#Given a 2D NumPy array arr, flatten the array in column-major (Fortran-style) order and store the result \n",
    "#in a new variable flat_arr. Then, print the flattened array and its shape."
   ]
  },
  {
   "cell_type": "code",
   "execution_count": 62,
   "id": "b5299236",
   "metadata": {},
   "outputs": [
    {
     "name": "stdout",
     "output_type": "stream",
     "text": [
      "[[1 2 3]\n",
      " [4 5 6]]\n",
      "flattened array: [1 4 2 5 3 6]\n",
      "shape of array: (6,)\n"
     ]
    }
   ],
   "source": [
    "a = np.array([[1,2,3],\n",
    "              [4,5,6]])\n",
    "print(a)\n",
    "flat_arr = np.ravel(a,'f')\n",
    "print(f'flattened array: {flat_arr}')\n",
    "print(f'shape of array: {np.shape(flat_arr)}')"
   ]
  },
  {
   "cell_type": "markdown",
   "id": "83177133",
   "metadata": {},
   "source": [
    "# 17"
   ]
  },
  {
   "cell_type": "code",
   "execution_count": 9,
   "id": "eb2694a2",
   "metadata": {},
   "outputs": [],
   "source": [
    "#Given a 1D numpy array a of length n, write a function that creates a 2D numpy array b of shape (m, n)"
   ]
  },
  {
   "cell_type": "code",
   "execution_count": 66,
   "id": "9d98a649",
   "metadata": {},
   "outputs": [
    {
     "name": "stdout",
     "output_type": "stream",
     "text": [
      "[[1 2 3]\n",
      " [4 5 6]]\n"
     ]
    }
   ],
   "source": [
    "a = np.array([1,2,3,4,5,6])\n",
    "b = np.reshape(a,(2,3))\n",
    "print(b)"
   ]
  },
  {
   "cell_type": "code",
   "execution_count": 10,
   "id": "3be4858c",
   "metadata": {},
   "outputs": [],
   "source": [
    "#Given a 1D numpy array a of length n, write a function to reshape a into a 2D numpy array of shape (sqrt(n), sqrt(n))."
   ]
  },
  {
   "cell_type": "code",
   "execution_count": 85,
   "id": "a0895449",
   "metadata": {},
   "outputs": [],
   "source": [
    "a = np.arange(16)\n",
    "\n",
    "def reshape_to_sqrt(a):\n",
    "    n = len(a)\n",
    "    sqrt_n = int(np.sqrt(n))\n",
    "    return np.reshape(a, (sqrt_n, sqrt_n))"
   ]
  },
  {
   "cell_type": "markdown",
   "id": "b0b13357",
   "metadata": {},
   "source": [
    "# 18"
   ]
  },
  {
   "cell_type": "code",
   "execution_count": 86,
   "id": "2e924e43",
   "metadata": {},
   "outputs": [],
   "source": [
    "#Create a 2D NumPy array with dimensions (3,4).\n",
    "#resize it to dimensions (5,6). Print the original and resized arrays."
   ]
  },
  {
   "cell_type": "code",
   "execution_count": 94,
   "id": "6bd6a95f",
   "metadata": {},
   "outputs": [
    {
     "name": "stdout",
     "output_type": "stream",
     "text": [
      "[[10  4  2  4]\n",
      " [ 8  1  1  2]\n",
      " [ 8 10 10  6]]\n",
      "[[10  4  2  4  8  1]\n",
      " [ 1  2  8 10 10  6]\n",
      " [10  4  2  4  8  1]\n",
      " [ 1  2  8 10 10  6]\n",
      " [10  4  2  4  8  1]]\n"
     ]
    }
   ],
   "source": [
    "#resizing means changing the original array!!!\n",
    "\n",
    "a = np.random.randint(1,11,(3,4))\n",
    "print(a)\n",
    "\n",
    "b = np.resize(a,(5,6))\n",
    "print(b)"
   ]
  },
  {
   "cell_type": "code",
   "execution_count": 12,
   "id": "13cbc21b",
   "metadata": {},
   "outputs": [],
   "source": [
    "#Create a 1D NumPy array of length 10 with random integers between 1 and 5.resize it to dimensions (2,5). \n",
    "#Print the original and resized arrays."
   ]
  },
  {
   "cell_type": "code",
   "execution_count": 100,
   "id": "5802d4fc",
   "metadata": {},
   "outputs": [
    {
     "name": "stdout",
     "output_type": "stream",
     "text": [
      "[5 1 5 2 2 3 4 2 4 3]\n",
      "[[5 1 5 2 2]\n",
      " [3 4 2 4 3]]\n"
     ]
    }
   ],
   "source": [
    "a = np.random.randint(1,6,10)\n",
    "print(a)\n",
    "\n",
    "b = np.resize(a,(2,5))\n",
    "print(b)"
   ]
  },
  {
   "cell_type": "markdown",
   "id": "eac23b9a",
   "metadata": {},
   "source": [
    "# 19"
   ]
  },
  {
   "cell_type": "code",
   "execution_count": 101,
   "id": "718d6470",
   "metadata": {},
   "outputs": [],
   "source": [
    "#Write a program that generates a random array between 0 and 10 and then rounds them to the nearest integer. \n",
    "#Print the original array and the rounded array."
   ]
  },
  {
   "cell_type": "code",
   "execution_count": 111,
   "id": "5977b8db",
   "metadata": {},
   "outputs": [
    {
     "name": "stdout",
     "output_type": "stream",
     "text": [
      "the original array: [9.67827299 6.22841292 3.77381337 2.6973691  4.14279606 4.86542927\n",
      " 2.61109831 2.48107355 1.47105294 3.07105358]\n",
      "the rounded array: [10.  6.  4.  3.  4.  5.  3.  2.  1.  3.]\n"
     ]
    }
   ],
   "source": [
    "a = np.random.uniform(0,11,10)\n",
    "print(f'the original array: {a}')\n",
    "\n",
    "b = np.round(a)\n",
    "print(f'the rounded array: {b}')"
   ]
  },
  {
   "cell_type": "code",
   "execution_count": 14,
   "id": "7cf63b7c",
   "metadata": {},
   "outputs": [],
   "source": [
    "#Write a function that takes an array of float values and a rounding precision as input and returns the \n",
    "#array rounded to the specified precision"
   ]
  },
  {
   "cell_type": "code",
   "execution_count": 117,
   "id": "1e476492",
   "metadata": {},
   "outputs": [
    {
     "name": "stdout",
     "output_type": "stream",
     "text": [
      "the original array: [ 3.68959392  9.34009273  3.08485427  0.80043435  1.76707684  5.87569358\n",
      "  0.0907189   4.48321688 10.75045092 10.83176141]\n",
      "the rounded array(,2): [10.  6.  4.  3.  4.  5.  3.  2.  1.  3.]\n"
     ]
    }
   ],
   "source": [
    "c = np.random.uniform(0,11,10)\n",
    "print(f'the original array: {c}')\n",
    "\n",
    "d = np.round(c,2)\n",
    "print(f'the rounded array(,2): {b}')"
   ]
  },
  {
   "cell_type": "markdown",
   "id": "95a72921",
   "metadata": {},
   "source": [
    "# 20"
   ]
  },
  {
   "cell_type": "code",
   "execution_count": 15,
   "id": "0cce62c3",
   "metadata": {},
   "outputs": [],
   "source": [
    "#Sorting a 2D array: Create a 2D numpy array and sort its rows in ascending order. Then, sort its columns in descending order."
   ]
  },
  {
   "cell_type": "code",
   "execution_count": 149,
   "id": "1b2bc305",
   "metadata": {},
   "outputs": [
    {
     "name": "stdout",
     "output_type": "stream",
     "text": [
      "sorted rows in ascenting order: [[ 1  3  8 11]\n",
      " [ 2  6  8  9]]\n",
      "sorted columns in descending order: [[ 2 11  9  8]\n",
      " [ 1  6  8  3]]\n"
     ]
    }
   ],
   "source": [
    "a = np.array([[1,11,8,3],\n",
    "              [2,6,9,8]])\n",
    "sort_rows = np.sort(a,axis=1)\n",
    "sort_columns = np.sort(a,axis=0)[::-1]\n",
    "print(f'sorted rows in ascenting order: {sort_rows}')\n",
    "print(f'sorted columns in descending order: {sort_columns}')"
   ]
  },
  {
   "cell_type": "code",
   "execution_count": 151,
   "id": "496e1bb0",
   "metadata": {},
   "outputs": [],
   "source": [
    "#Sorting a structured array: Create a structured numpy array with fields name, age, and salary. \n",
    "#Sort the array first by salary in descending order, then by age in ascending order."
   ]
  },
  {
   "cell_type": "code",
   "execution_count": 150,
   "id": "b0acf7d9",
   "metadata": {},
   "outputs": [
    {
     "name": "stdout",
     "output_type": "stream",
     "text": [
      "[('Mary', 25, 60000.) ('Jane', 20, 55000.) ('John', 30, 50000.)\n",
      " ('Bob', 35, 40000.)]\n"
     ]
    }
   ],
   "source": [
    "data = np.array([('John', 30, 50000),\n",
    "                 ('Mary', 25, 60000),\n",
    "                 ('Bob', 35, 40000),\n",
    "                 ('Jane', 20, 55000)],\n",
    "                dtype=[('name', 'U10'), ('age', int), ('salary', float)])\n",
    "sorted_data = np.sort(data, order=('salary', 'age'), kind='quicksort')[::-1]\n",
    "print(sorted_data)\n"
   ]
  },
  {
   "cell_type": "markdown",
   "id": "41528cad",
   "metadata": {},
   "source": [
    "# 21"
   ]
  },
  {
   "cell_type": "code",
   "execution_count": 17,
   "id": "a02f841c",
   "metadata": {},
   "outputs": [],
   "source": [
    "#Calculate the standard deviation of the following set of numbers using NumPy: [10, 15, 18, 21, 12, 9, 7, 23]."
   ]
  },
  {
   "cell_type": "code",
   "execution_count": 153,
   "id": "c72cfff5",
   "metadata": {},
   "outputs": [
    {
     "name": "stdout",
     "output_type": "stream",
     "text": [
      "5.475799028452378\n"
     ]
    }
   ],
   "source": [
    "a = np.array([10, 15, 18, 21, 12, 9, 7, 23])\n",
    "stdev_a = np.std(a)\n",
    "print(stdev_a)"
   ]
  },
  {
   "cell_type": "code",
   "execution_count": 19,
   "id": "7e2fec5c",
   "metadata": {},
   "outputs": [],
   "source": [
    "#Find the standard deviation of the array 'a' with shape (5, 3)."
   ]
  },
  {
   "cell_type": "code",
   "execution_count": 161,
   "id": "97ba82b1",
   "metadata": {},
   "outputs": [
    {
     "name": "stdout",
     "output_type": "stream",
     "text": [
      "[3.23619001 4.927422   4.98050894 4.17504504 4.21502373 3.70874069]\n",
      "0.6203686650663751\n"
     ]
    }
   ],
   "source": [
    "b = np.random.uniform(5,3,6)\n",
    "print(b)\n",
    "\n",
    "stdev_b = np.std(b)\n",
    "print(stdev_b)"
   ]
  },
  {
   "cell_type": "code",
   "execution_count": 20,
   "id": "e400e578",
   "metadata": {},
   "outputs": [],
   "source": [
    "#Given an array 'a' of shape (10, 5), calculate the standard deviation of the first and last columns (axis 0) \n",
    "#and report the results."
   ]
  },
  {
   "cell_type": "code",
   "execution_count": 175,
   "id": "0adec7b0",
   "metadata": {},
   "outputs": [
    {
     "name": "stdout",
     "output_type": "stream",
     "text": [
      "[[24 26 18 35 63]\n",
      " [24 58 80 76 69]\n",
      " [53 33 42 60 49]\n",
      " [69 54 88 96 31]\n",
      " [31 10  9 97 12]\n",
      " [86 16 68 28 59]\n",
      " [92 49 38  8 70]\n",
      " [46  7 92 91 44]\n",
      " [41 95 11 97 59]\n",
      " [35  4 33 51 25]]\n",
      "standard deviation of the 1st column: 23.3771255718063\n",
      "standard deviation of the 1st column: 18.769389974104115\n"
     ]
    }
   ],
   "source": [
    "a = np.random.randint(1,101,(10,5))\n",
    "print(a)\n",
    "\n",
    "print(f'standard deviation of the 1st column: {np.std(a[:,0])}')\n",
    "print(f'standard deviation of the 1st column: {np.std(a[:,-1])}')"
   ]
  },
  {
   "cell_type": "markdown",
   "id": "158bcb57",
   "metadata": {},
   "source": [
    "# 22"
   ]
  },
  {
   "cell_type": "code",
   "execution_count": 87,
   "id": "ccd16d35",
   "metadata": {},
   "outputs": [],
   "source": [
    "#Given a 2D numpy array arr, write a Python function to find the sum of all the elements in each column of \n",
    "#the array and return the result as a 1D numpy array."
   ]
  },
  {
   "cell_type": "code",
   "execution_count": 177,
   "id": "72aa03de",
   "metadata": {},
   "outputs": [
    {
     "name": "stdout",
     "output_type": "stream",
     "text": [
      "[[38 16  4 57  1]\n",
      " [80  4 32  9 98]\n",
      " [77  2 85 52 51]\n",
      " [22 71 70 45 22]]\n",
      "[217  93 191 163 172]\n"
     ]
    }
   ],
   "source": [
    "a = np.random.randint(1,101,(4,5))\n",
    "print(a)\n",
    "\n",
    "sums = np.sum(a,axis=0)\n",
    "print(sums)"
   ]
  },
  {
   "cell_type": "code",
   "execution_count": 88,
   "id": "47106d0e",
   "metadata": {},
   "outputs": [],
   "source": [
    "#Write a Python function that takes two 2D numpy arrays arr1 and arr2 of the same shape, and create\n",
    "#a new array with the element-wise sum of the two input arrays."
   ]
  },
  {
   "cell_type": "code",
   "execution_count": 187,
   "id": "f9d95add",
   "metadata": {},
   "outputs": [
    {
     "name": "stdout",
     "output_type": "stream",
     "text": [
      "[[ 0  1  2  3]\n",
      " [ 4  5  6  7]\n",
      " [ 8  9 10 11]]\n",
      "[[86 32 64 97]\n",
      " [87 95 37 18]\n",
      " [35 79 13  7]]\n",
      "[[ 86  33  66 100]\n",
      " [ 91 100  43  25]\n",
      " [ 43  88  23  18]]\n"
     ]
    }
   ],
   "source": [
    "arr1 = np.arange(12).reshape(3,4)\n",
    "arr2 = np.random.randint(0,101,(3,4))\n",
    "print(arr1)\n",
    "print(arr2)\n",
    "\n",
    "summarized = np.sum([arr1,arr2],axis=0)\n",
    "print(summarized)"
   ]
  },
  {
   "cell_type": "markdown",
   "id": "44aff165",
   "metadata": {},
   "source": [
    "# 23"
   ]
  },
  {
   "cell_type": "code",
   "execution_count": 89,
   "id": "616d4195",
   "metadata": {},
   "outputs": [],
   "source": [
    "#Create a 2D NumPy array of size 3x4 and transpose it. Print the original and transposed arrays."
   ]
  },
  {
   "cell_type": "code",
   "execution_count": 188,
   "id": "60069eeb",
   "metadata": {},
   "outputs": [
    {
     "name": "stdout",
     "output_type": "stream",
     "text": [
      "[[1 2 3]\n",
      " [4 5 6]]\n",
      "[[1 4]\n",
      " [2 5]\n",
      " [3 6]]\n"
     ]
    }
   ],
   "source": [
    "arr1 = np.array([[1,2,3],\n",
    "                 [4,5,6]])\n",
    "arr2 = np.transpose(arr1)\n",
    "print(arr1)\n",
    "print(arr2)"
   ]
  },
  {
   "cell_type": "code",
   "execution_count": 90,
   "id": "3fa64c84",
   "metadata": {},
   "outputs": [],
   "source": [
    "#Create a random 2D NumPy array of size 5x7 and transpose it. Calculate the mean of the original \n",
    "#and transposed arrays and print the results."
   ]
  },
  {
   "cell_type": "code",
   "execution_count": 197,
   "id": "76d67e6d",
   "metadata": {},
   "outputs": [
    {
     "name": "stdout",
     "output_type": "stream",
     "text": [
      "mean of 1st array: 51.34285714285714\n",
      "mean of 2nd array: 51.34285714285714\n"
     ]
    }
   ],
   "source": [
    "#obviously the results'll be same, but lets use 2 modules in one\n",
    "a = np.random.randint(1,101,(5,7))\n",
    "\n",
    "print(f'mean of 1st array: {np.mean(a)}')\n",
    "print(f'mean of 2nd array: {np.transpose(a).mean()}')"
   ]
  },
  {
   "cell_type": "markdown",
   "id": "e2d3d6c5",
   "metadata": {},
   "source": [
    "# 24"
   ]
  },
  {
   "cell_type": "code",
   "execution_count": 91,
   "id": "30a2368e",
   "metadata": {},
   "outputs": [],
   "source": [
    "#Create a 2D array of shape (3, 4) filled with ones, and another 2D array of the \n",
    "#same shape filled with zeros. Display both arrays."
   ]
  },
  {
   "cell_type": "code",
   "execution_count": 200,
   "id": "12cb5bb7",
   "metadata": {},
   "outputs": [
    {
     "name": "stdout",
     "output_type": "stream",
     "text": [
      "[[1. 1. 1. 1.]\n",
      " [1. 1. 1. 1.]\n",
      " [1. 1. 1. 1.]]\n",
      "[[0. 0. 0. 0.]\n",
      " [0. 0. 0. 0.]\n",
      " [0. 0. 0. 0.]]\n"
     ]
    }
   ],
   "source": [
    "ones = np.ones((3,4))\n",
    "zeros = np.zeros((3,4))\n",
    "\n",
    "print(ones)\n",
    "print(zeros)"
   ]
  },
  {
   "cell_type": "code",
   "execution_count": 92,
   "id": "0f8758a6",
   "metadata": {},
   "outputs": [],
   "source": [
    "#Create a random 1D array of length 7 using np.random.rand, and then create \n",
    "#a new array of the same shape filled with zeros. Display both arrays."
   ]
  },
  {
   "cell_type": "code",
   "execution_count": 205,
   "id": "de982244",
   "metadata": {},
   "outputs": [
    {
     "name": "stdout",
     "output_type": "stream",
     "text": [
      "[0.78317137 0.66567771 0.20679808 0.19056577 0.14882172 0.77837374\n",
      " 0.89926862]\n",
      "[0. 0. 0. 0. 0. 0. 0.]\n"
     ]
    }
   ],
   "source": [
    "arr1 = np.random.rand(7)\n",
    "print(arr1)\n",
    "\n",
    "arr2 = np.zeros_like(arr1)\n",
    "print(arr2)"
   ]
  },
  {
   "cell_type": "markdown",
   "id": "91df36f5",
   "metadata": {},
   "source": [
    "# 25"
   ]
  },
  {
   "cell_type": "code",
   "execution_count": 93,
   "id": "69a95897",
   "metadata": {},
   "outputs": [],
   "source": [
    "#Create an array of all even numbers between 10 and 30"
   ]
  },
  {
   "cell_type": "code",
   "execution_count": 208,
   "id": "74c73f3e",
   "metadata": {},
   "outputs": [
    {
     "name": "stdout",
     "output_type": "stream",
     "text": [
      "[10 12 14 16 18 20 22 24 26 28 30]\n"
     ]
    }
   ],
   "source": [
    "a = np.arange(10,31,2)\n",
    "print(a)"
   ]
  },
  {
   "cell_type": "code",
   "execution_count": 94,
   "id": "fbd3a0c9",
   "metadata": {},
   "outputs": [],
   "source": [
    "# create an array of length 10 with values ranging from 0 to 1 (exclusive)."
   ]
  },
  {
   "cell_type": "code",
   "execution_count": 210,
   "id": "d8c6f9e8",
   "metadata": {},
   "outputs": [
    {
     "name": "stdout",
     "output_type": "stream",
     "text": [
      "[0]\n"
     ]
    }
   ],
   "source": [
    "arr = np.arange(0,1,0.1)\n",
    "print(arr)"
   ]
  },
  {
   "cell_type": "code",
   "execution_count": 216,
   "id": "3e1023aa",
   "metadata": {},
   "outputs": [],
   "source": [
    "#Create an array with values ranging from 0 to 10 (inclusive) with a step size of 0.33"
   ]
  },
  {
   "cell_type": "code",
   "execution_count": 215,
   "id": "33776515",
   "metadata": {},
   "outputs": [
    {
     "name": "stdout",
     "output_type": "stream",
     "text": [
      "[ 0.    0.33  0.66  0.99  1.32  1.65  1.98  2.31  2.64  2.97  3.3   3.63\n",
      "  3.96  4.29  4.62  4.95  5.28  5.61  5.94  6.27  6.6   6.93  7.26  7.59\n",
      "  7.92  8.25  8.58  8.91  9.24  9.57  9.9  10.23 10.56 10.89]\n"
     ]
    }
   ],
   "source": [
    "a = np.arange(0,11,0.33)\n",
    "print(a)"
   ]
  },
  {
   "cell_type": "markdown",
   "id": "c638bec6",
   "metadata": {},
   "source": [
    "# 26"
   ]
  },
  {
   "cell_type": "code",
   "execution_count": 96,
   "id": "de3cc23e",
   "metadata": {},
   "outputs": [],
   "source": [
    "#Create two arrays of the same size and concatenate them horizontally"
   ]
  },
  {
   "cell_type": "code",
   "execution_count": 14,
   "id": "49ee66ff",
   "metadata": {},
   "outputs": [
    {
     "name": "stdout",
     "output_type": "stream",
     "text": [
      "[[ 0  1  2  3  4 20 21 22 23 24]\n",
      " [ 5  6  7  8  9 25 26 27 28 29]\n",
      " [10 11 12 13 14 30 31 32 33 34]\n",
      " [15 16 17 18 19 35 36 37 38 39]]\n"
     ]
    }
   ],
   "source": [
    "arr1 = np.arange(20).reshape(4,5)\n",
    "arr2 = np.arange(20,40).reshape(4,5)\n",
    "concatenate = np.hstack((arr1,arr2))\n",
    "print(concatenate)"
   ]
  },
  {
   "cell_type": "code",
   "execution_count": 97,
   "id": "81944a24",
   "metadata": {},
   "outputs": [],
   "source": [
    "#Create a 2D array of shape (3, 3) and a 2D array of shape (3, 2). Concatenate them VERTICALLY"
   ]
  },
  {
   "cell_type": "code",
   "execution_count": 33,
   "id": "dc4413a3",
   "metadata": {},
   "outputs": [
    {
     "name": "stdout",
     "output_type": "stream",
     "text": [
      "[[ 0  1  2]\n",
      " [ 3  4  5]\n",
      " [ 6  7  8]\n",
      " [ 9 10 11]\n",
      " [12 13 14]]\n"
     ]
    }
   ],
   "source": [
    "arr1 = np.arange(9).reshape(3,3)\n",
    "arr2 = np.arange(9,15).reshape(2,3)\n",
    "\n",
    "concatenate = np.vstack((arr1,arr2))\n",
    "print(concatenate)"
   ]
  },
  {
   "cell_type": "code",
   "execution_count": 98,
   "id": "ba030ec2",
   "metadata": {},
   "outputs": [],
   "source": [
    "#Create three arrays of the same shape and concatenate them along the first axis. \n",
    "#Then, sort the resulting array along the second axis"
   ]
  },
  {
   "cell_type": "code",
   "execution_count": 48,
   "id": "2237ff2f",
   "metadata": {},
   "outputs": [
    {
     "name": "stdout",
     "output_type": "stream",
     "text": [
      "[[ 4  4  7 16 19 21 31 31 32]\n",
      " [ 3  3  8 15 19 23 24 24 33]\n",
      " [ 0  1  8 13 16 22 33 34 35]\n",
      " [ 8 11 11 14 14 23 24 25 27]]\n"
     ]
    }
   ],
   "source": [
    "arr1 = np.random.randint(0,12,(4,3))\n",
    "arr2 = np.random.randint(12,24,(4,3))\n",
    "arr3 = np.random.randint(24,36,(4,3))\n",
    "\n",
    "concatenate = np.hstack((arr1,arr2,arr3))\n",
    "concatenate.sort(axis=1)\n",
    "print(concatenate)"
   ]
  },
  {
   "cell_type": "code",
   "execution_count": 99,
   "id": "7bd4daed",
   "metadata": {},
   "outputs": [],
   "source": [
    "#Create two arrays with shape (2, 3) and concatenate them vertically"
   ]
  },
  {
   "cell_type": "code",
   "execution_count": null,
   "id": "9d9feb28",
   "metadata": {},
   "outputs": [],
   "source": []
  },
  {
   "cell_type": "code",
   "execution_count": 100,
   "id": "ddcb87cd",
   "metadata": {},
   "outputs": [],
   "source": [
    "#Create two arrays with shape (3, 2) and concatenate them horizontally"
   ]
  },
  {
   "cell_type": "code",
   "execution_count": null,
   "id": "16787796",
   "metadata": {},
   "outputs": [],
   "source": []
  },
  {
   "cell_type": "code",
   "execution_count": 101,
   "id": "57a6c141",
   "metadata": {},
   "outputs": [],
   "source": [
    "#Create two arrays with different shapes and try to concatenate them vertically"
   ]
  },
  {
   "cell_type": "code",
   "execution_count": null,
   "id": "1173069b",
   "metadata": {},
   "outputs": [],
   "source": []
  },
  {
   "cell_type": "markdown",
   "id": "d950e1a3",
   "metadata": {},
   "source": [
    "# 28"
   ]
  },
  {
   "cell_type": "code",
   "execution_count": 102,
   "id": "92e4996f",
   "metadata": {},
   "outputs": [],
   "source": [
    "#Create a 6x6 identity matrix"
   ]
  },
  {
   "cell_type": "code",
   "execution_count": 53,
   "id": "3a882cf6",
   "metadata": {},
   "outputs": [
    {
     "name": "stdout",
     "output_type": "stream",
     "text": [
      "[[1. 0. 0. 0. 0. 0.]\n",
      " [0. 1. 0. 0. 0. 0.]\n",
      " [0. 0. 1. 0. 0. 0.]\n",
      " [0. 0. 0. 1. 0. 0.]\n",
      " [0. 0. 0. 0. 1. 0.]\n",
      " [0. 0. 0. 0. 0. 1.]]\n"
     ]
    }
   ],
   "source": [
    "identity = np.eye(6,6)\n",
    "print(identity)"
   ]
  },
  {
   "cell_type": "code",
   "execution_count": 104,
   "id": "b701b195",
   "metadata": {},
   "outputs": [],
   "source": [
    "#Create a 7x7 matrix with a specified number of ones above and below the diagonal"
   ]
  },
  {
   "cell_type": "code",
   "execution_count": 54,
   "id": "cc1948fd",
   "metadata": {},
   "outputs": [
    {
     "name": "stdout",
     "output_type": "stream",
     "text": [
      "[[0. 0. 1. 0. 0. 0. 0.]\n",
      " [0. 0. 0. 1. 0. 0. 0.]\n",
      " [1. 0. 0. 0. 1. 0. 0.]\n",
      " [0. 1. 0. 0. 0. 1. 0.]\n",
      " [0. 0. 1. 0. 0. 0. 1.]\n",
      " [0. 0. 0. 1. 0. 0. 0.]\n",
      " [0. 0. 0. 0. 1. 0. 0.]]\n"
     ]
    }
   ],
   "source": [
    "# Number of ones above and below the diagonal\n",
    "num_ones = 2\n",
    "\n",
    "# Create a 7x7 matrix with the specified number of ones\n",
    "matrix = np.eye(7, k=num_ones) + np.eye(7, k=-num_ones)\n",
    "\n",
    "# Print the matrix\n",
    "print(matrix)"
   ]
  },
  {
   "cell_type": "code",
   "execution_count": 105,
   "id": "77098e4a",
   "metadata": {},
   "outputs": [],
   "source": [
    "#Create a 2D array with zeros everywhere except for the second diagonal below the main diagonal"
   ]
  },
  {
   "cell_type": "code",
   "execution_count": 59,
   "id": "a495cbb7",
   "metadata": {},
   "outputs": [
    {
     "name": "stdout",
     "output_type": "stream",
     "text": [
      "[[0. 0. 0. 0. 0. 0.]\n",
      " [1. 0. 0. 0. 0. 0.]\n",
      " [0. 1. 0. 0. 0. 0.]\n",
      " [0. 0. 1. 0. 0. 0.]\n",
      " [0. 0. 0. 1. 0. 0.]\n",
      " [0. 0. 0. 0. 1. 0.]]\n"
     ]
    }
   ],
   "source": [
    "a = np.eye(6,6,k = -1)\n",
    "print(a)"
   ]
  },
  {
   "cell_type": "markdown",
   "id": "1fb20729",
   "metadata": {},
   "source": [
    "# 29"
   ]
  },
  {
   "cell_type": "code",
   "execution_count": 106,
   "id": "470c1452",
   "metadata": {},
   "outputs": [],
   "source": [
    "#Given a 2D NumPy array, find the number of unique values in each row and return them as a 1D array."
   ]
  },
  {
   "cell_type": "code",
   "execution_count": 74,
   "id": "f0385c7b",
   "metadata": {},
   "outputs": [
    {
     "name": "stdout",
     "output_type": "stream",
     "text": [
      "[[2 4 9 8 2]\n",
      " [7 8 9 9 2]]\n",
      "[2 4 7 8 9]\n"
     ]
    }
   ],
   "source": [
    "arr = np.random.randint(1,10,10).reshape(2,5)\n",
    "print(arr)\n",
    "uniq = np.unique(arr)\n",
    "print(uniq)"
   ]
  },
  {
   "cell_type": "code",
   "execution_count": 107,
   "id": "2f1ef1d4",
   "metadata": {},
   "outputs": [],
   "source": [
    "#Given a 1D NumPy array, find the unique values and their counts."
   ]
  },
  {
   "cell_type": "code",
   "execution_count": 75,
   "id": "d46abb40",
   "metadata": {},
   "outputs": [
    {
     "name": "stdout",
     "output_type": "stream",
     "text": [
      "[ 3  2  1  1  1 10  5  8  9  1]\n",
      "Unique Values: [ 1  2  3  5  8  9 10]\n",
      "Unique Counts: [4 1 1 1 1 1 1]\n"
     ]
    }
   ],
   "source": [
    "# Generate a 1D NumPy array with random integers between 1 and 10\n",
    "arr = np.random.randint(1, 11, size=10)\n",
    "print(arr)\n",
    "\n",
    "# Find the unique values and their counts\n",
    "unique_values, unique_counts = np.unique(arr, return_counts=True)\n",
    "print(\"Unique Values:\", unique_values)\n",
    "print(\"Unique Counts:\", unique_counts)"
   ]
  },
  {
   "cell_type": "markdown",
   "id": "c20692db",
   "metadata": {},
   "source": [
    "# 30"
   ]
  },
  {
   "cell_type": "code",
   "execution_count": 108,
   "id": "084f2bf2",
   "metadata": {},
   "outputs": [],
   "source": [
    "#Given two arrays, a and b, create a new array c where each element is a if the corresponding element \n",
    "#in b is greater than 0, and b otherwise."
   ]
  },
  {
   "cell_type": "code",
   "execution_count": 85,
   "id": "7d2eee58",
   "metadata": {},
   "outputs": [
    {
     "name": "stdout",
     "output_type": "stream",
     "text": [
      "[[ 3 -1 -5]\n",
      " [-5  0 -6]\n",
      " [ 4 -5 -6]\n",
      " [-2 -4  0]]\n"
     ]
    }
   ],
   "source": [
    "a = np.random.randint(-6,7,(4,3))\n",
    "b = np.random.randint(-4,9,(4,3))\n",
    "\n",
    "c = np.where(b>0, a, b)\n",
    "print(c)"
   ]
  },
  {
   "cell_type": "code",
   "execution_count": 109,
   "id": "ddba114f",
   "metadata": {},
   "outputs": [],
   "source": [
    "#Generate a random 2D array with values between 0 and 1. create a new array where elements \n",
    "#greater than 0.5 are replaced with 1 and elements less than or equal to 0.5 are replaced with 0."
   ]
  },
  {
   "cell_type": "code",
   "execution_count": 90,
   "id": "63d8bfb6",
   "metadata": {},
   "outputs": [
    {
     "name": "stdout",
     "output_type": "stream",
     "text": [
      "[[0.43526909 0.75323035 0.36088043 0.97906746]\n",
      " [0.74448203 0.70024568 0.22838091 0.854095  ]\n",
      " [0.70448346 0.76285768 0.20280903 0.62548481]]\n",
      "[[0 1 0 1]\n",
      " [1 1 0 1]\n",
      " [1 1 0 1]]\n"
     ]
    }
   ],
   "source": [
    "arr1 = np.random.rand(3,4)\n",
    "print(arr1)\n",
    "\n",
    "arr2 = np.where(arr1>0.5,1,0)\n",
    "print(arr2)"
   ]
  },
  {
   "cell_type": "markdown",
   "id": "4a07954f",
   "metadata": {},
   "source": [
    "# 31"
   ]
  },
  {
   "cell_type": "code",
   "execution_count": 110,
   "id": "d8301ffe",
   "metadata": {},
   "outputs": [],
   "source": [
    "#Given an array of size 3x3, create a new array that is a mirror image of the original array along the horizontal axis."
   ]
  },
  {
   "cell_type": "code",
   "execution_count": 92,
   "id": "56d93009",
   "metadata": {},
   "outputs": [
    {
     "name": "stdout",
     "output_type": "stream",
     "text": [
      "[[2 1 0]\n",
      " [5 4 3]\n",
      " [8 7 6]]\n"
     ]
    }
   ],
   "source": [
    "a = np.arange(9).reshape(3,3)\n",
    "mirr = np.flip(a,axis=1)\n",
    "print(mirr)"
   ]
  },
  {
   "cell_type": "code",
   "execution_count": 111,
   "id": "f99edd18",
   "metadata": {},
   "outputs": [],
   "source": [
    "#reate a random array of integers between 1 and 100 of size 4x4. create a new array that is a mirror \n",
    "#image of the original array along the vertical axis."
   ]
  },
  {
   "cell_type": "code",
   "execution_count": 95,
   "id": "4347b327",
   "metadata": {},
   "outputs": [
    {
     "name": "stdout",
     "output_type": "stream",
     "text": [
      "[[73 91 33 46]\n",
      " [92 65 70 70]\n",
      " [44 43  3  8]\n",
      " [56 16  2 31]]\n",
      "[[56 16  2 31]\n",
      " [44 43  3  8]\n",
      " [92 65 70 70]\n",
      " [73 91 33 46]]\n"
     ]
    }
   ],
   "source": [
    "arr = np.random.randint(1,101,(4,4))\n",
    "print(arr)\n",
    "mirr = np.flip(arr,axis=0)\n",
    "print(mirr)"
   ]
  },
  {
   "cell_type": "markdown",
   "id": "ff593f8f",
   "metadata": {},
   "source": [
    "# 32"
   ]
  },
  {
   "cell_type": "code",
   "execution_count": 112,
   "id": "6d584613",
   "metadata": {},
   "outputs": [],
   "source": [
    "#Given a square matrix, create an array that contains the diagonal elements of the matrix."
   ]
  },
  {
   "cell_type": "code",
   "execution_count": 110,
   "id": "dd0d645d",
   "metadata": {},
   "outputs": [
    {
     "name": "stdout",
     "output_type": "stream",
     "text": [
      "[[ 0  1  2  3  4]\n",
      " [ 5  6  7  8  9]\n",
      " [10 11 12 13 14]\n",
      " [15 16 17 18 19]\n",
      " [20 21 22 23 24]]\n",
      "[ 0  6 12 18 24]\n"
     ]
    }
   ],
   "source": [
    "a = np.arange(25).reshape(5,5)\n",
    "print(a)\n",
    "diag = np.diagonal(a)\n",
    "print(diag)"
   ]
  },
  {
   "cell_type": "code",
   "execution_count": 113,
   "id": "11211181",
   "metadata": {},
   "outputs": [],
   "source": [
    "#Create a random array of integers between 1 and 100 of size 5x5. create an array that contains \n",
    "#the diagonal elements of the matrix."
   ]
  },
  {
   "cell_type": "code",
   "execution_count": 112,
   "id": "a3e7b51d",
   "metadata": {},
   "outputs": [
    {
     "name": "stdout",
     "output_type": "stream",
     "text": [
      "[[ 5 15 89 86 57]\n",
      " [82 60 60 70 90]\n",
      " [72 15 84 42 76]\n",
      " [79 15 88 45 85]\n",
      " [70 10 73 85 37]]\n",
      "[ 5 60 84 45 37]\n"
     ]
    }
   ],
   "source": [
    "arr = np.random.randint(1,101,(5,5))\n",
    "print(arr)\n",
    "diag = np.diagonal(arr)\n",
    "print(diag)"
   ]
  },
  {
   "cell_type": "markdown",
   "id": "323fd705",
   "metadata": {},
   "source": [
    "# 34"
   ]
  },
  {
   "cell_type": "code",
   "execution_count": 113,
   "id": "4f871cb1",
   "metadata": {},
   "outputs": [],
   "source": [
    "#Generate a 1D array of length 50 with random values following a normal distribution with \n",
    "#mean 10 and standard deviation 2"
   ]
  },
  {
   "cell_type": "code",
   "execution_count": null,
   "id": "24f8b4ec",
   "metadata": {},
   "outputs": [],
   "source": [
    "# Generate a 1D array of length 50 with random values following a normal distribution with mean 10 and standard deviation 2\n",
    "a = np.random.normal(10, 2, size=50)\n",
    "print(a)"
   ]
  },
  {
   "cell_type": "markdown",
   "id": "b0b1d894",
   "metadata": {},
   "source": [
    "# 35"
   ]
  },
  {
   "cell_type": "code",
   "execution_count": 117,
   "id": "3ce7bf66",
   "metadata": {},
   "outputs": [],
   "source": [
    "#Create a 4x4 matrix with random integer values between 1 and 10 and then randomly choose 3 elements from the matrix"
   ]
  },
  {
   "cell_type": "code",
   "execution_count": 123,
   "id": "02e0dda5",
   "metadata": {},
   "outputs": [
    {
     "name": "stdout",
     "output_type": "stream",
     "text": [
      "[[ 9  6  9  2]\n",
      " [ 4 10  5  4]\n",
      " [ 8  1  1 10]\n",
      " [ 9  7  5  4]]\n",
      "[9 4 5]\n"
     ]
    }
   ],
   "source": [
    "matrix = np.random.randint(1, 11, size=(4, 4))\n",
    "print(matrix)\n",
    "\n",
    "# Randomly choose 3 elements from the matrix\n",
    "chosen_elements = np.random.choice(matrix.flatten(), size=3, replace=False)\n",
    "print(chosen_elements)"
   ]
  },
  {
   "cell_type": "code",
   "execution_count": 118,
   "id": "88d9ec5d",
   "metadata": {},
   "outputs": [],
   "source": [
    "#Generate a 3x3 matrix with values between 0 and 1 and shuffle"
   ]
  },
  {
   "cell_type": "code",
   "execution_count": 133,
   "id": "30d64a08",
   "metadata": {},
   "outputs": [
    {
     "name": "stdout",
     "output_type": "stream",
     "text": [
      "[[0.9880133  0.9483035  0.46571478]\n",
      " [0.58162876 0.8170412  0.59510042]\n",
      " [0.8564543  0.72759476 0.81236791]]\n"
     ]
    }
   ],
   "source": [
    "a = np.random.rand(3,3)\n",
    "np.random.shuffle(a)\n",
    "print(a)"
   ]
  }
 ],
 "metadata": {
  "kernelspec": {
   "display_name": "Python 3 (ipykernel)",
   "language": "python",
   "name": "python3"
  },
  "language_info": {
   "codemirror_mode": {
    "name": "ipython",
    "version": 3
   },
   "file_extension": ".py",
   "mimetype": "text/x-python",
   "name": "python",
   "nbconvert_exporter": "python",
   "pygments_lexer": "ipython3",
   "version": "3.9.13"
  }
 },
 "nbformat": 4,
 "nbformat_minor": 5
}
